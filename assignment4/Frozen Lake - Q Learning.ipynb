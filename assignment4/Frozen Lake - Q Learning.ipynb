{
 "cells": [
  {
   "cell_type": "markdown",
   "metadata": {},
   "source": [
    "## Q-Learning Algorithm\n"
   ]
  },
  {
   "cell_type": "code",
   "execution_count": 1,
   "metadata": {},
   "outputs": [],
   "source": [
    "import sys\n",
    "sys.path.append('/home/gabe/.local/lib/python3.8/site-packages')"
   ]
  },
  {
   "cell_type": "code",
   "execution_count": 2,
   "metadata": {},
   "outputs": [],
   "source": [
    "import numpy as np\n",
    "import gym\n",
    "import random\n",
    "import time\n",
    "from IPython.display import clear_output\n",
    "%matplotlib inline\n",
    "import seaborn\n",
    "import matplotlib.pyplot as plt\n",
    "from datetime import datetime"
   ]
  },
  {
   "cell_type": "code",
   "execution_count": 3,
   "metadata": {},
   "outputs": [],
   "source": [
    "env = gym.make(\"FrozenLake-v0\")"
   ]
  },
  {
   "cell_type": "code",
   "execution_count": 4,
   "metadata": {},
   "outputs": [],
   "source": [
    "def learning_chart(rewards_from_all_episodes,num_episodes,rate):\n",
    "    \n",
    "    rewards_register = []\n",
    "    rewards_per_thousand_episodes = np.split(np.array(rewards_from_all_episodes),num_episodes/rate)\n",
    "    count = rate\n",
    "    print(\"**Average reward per thousand episodes**\\n\")\n",
    "    for r in rewards_per_thousand_episodes:\n",
    "        rewards_register.append(sum(r/rate))\n",
    "        print(count,\":\",str(sum(r/rate)))\n",
    "        count += rate\n",
    "        \n",
    "    plt.plot(rewards_register)\n",
    "    plt.ylabel('Rewards per 1000 episodes')\n",
    "    plt.xlabel('Thousand episodes')\n",
    "    plt.show()"
   ]
  },
  {
   "cell_type": "code",
   "execution_count": 5,
   "metadata": {},
   "outputs": [],
   "source": [
    "def print_table(table_name, table):\n",
    "    print(\"\\n\\n***** \" + table_name +\" *****\\n\")\n",
    "    print(table)"
   ]
  },
  {
   "cell_type": "code",
   "execution_count": 6,
   "metadata": {},
   "outputs": [],
   "source": [
    "def q_learning_algo(action_space_size,state_space_size,num_episodes, max_steps_per_episode, \\\n",
    "                       learning_rate, discount_rate, exploration_rate, max_exploration_rate, \\\n",
    "                        min_exploration_rate, exploration_decay_rate):\n",
    "    \n",
    "    rewards_all_episodes = []\n",
    "    q_table = np.zeros((state_space_size, action_space_size))\n",
    "    \n",
    "    for episode in range(num_episodes):\n",
    "        \n",
    "        state = env.reset() \n",
    "        done = False\n",
    "        rewards_current_episode = 0\n",
    "    \n",
    "        # a Step is a single timestep within an episode\n",
    "        for step in range(max_steps_per_episode):\n",
    "        \n",
    "            exploration_rate_threshold = random.uniform(0,1)\n",
    "            if exploration_rate_threshold > exploration_rate:\n",
    "                action = np.argmax(q_table[state,:])\n",
    "            else:\n",
    "                action = env.action_space.sample()\n",
    "            \n",
    "            new_state, reward, done, info = env.step(action)\n",
    "        \n",
    "            #Update Q-Table for Q(s,a)\n",
    "            q_table[state,action] = q_table[state,action] * (1 - learning_rate) + \\\n",
    "                learning_rate * (reward + discount_rate * np.max(q_table[new_state,:]))\n",
    "        \n",
    "            state = new_state\n",
    "            rewards_current_episode += reward\n",
    "        \n",
    "            if done == True:\n",
    "                break\n",
    "            \n",
    "        exploration_rate = min_exploration_rate + \\\n",
    "            (max_exploration_rate - min_exploration_rate) * np.exp(-exploration_decay_rate*episode)\n",
    "\n",
    "        rewards_all_episodes.append(rewards_current_episode)\n",
    "    \n",
    "    return(rewards_all_episodes, q_table)\n",
    "    \n",
    "    \n"
   ]
  },
  {
   "cell_type": "code",
   "execution_count": 7,
   "metadata": {},
   "outputs": [
    {
     "name": "stdout",
     "output_type": "stream",
     "text": [
      "Starting: 2021-04-25 14:47:08.951967\n",
      "Ended: 2021-04-25 14:48:04.433561\n",
      "It took:0:00:55.481391\n"
     ]
    }
   ],
   "source": [
    "print(\"Starting: \" + str(datetime.now()))\n",
    "starting = datetime.now()\n",
    "\n",
    "full_rewards, q = q_learning_algo(env.action_space.n, env.observation_space.n,100000,100,0.1,0.99,1,1,0.01,0.001)\n",
    "\n",
    "it_took = datetime.now() - starting\n",
    "print(\"Ended: \" + str(datetime.now()))\n",
    "print(\"It took:\" + str(it_took))"
   ]
  },
  {
   "cell_type": "code",
   "execution_count": 8,
   "metadata": {},
   "outputs": [
    {
     "name": "stdout",
     "output_type": "stream",
     "text": [
      "**Average reward per thousand episodes**\n",
      "\n",
      "1000 : 0.048000000000000036\n",
      "2000 : 0.19800000000000015\n",
      "3000 : 0.3900000000000003\n",
      "4000 : 0.5470000000000004\n",
      "5000 : 0.6530000000000005\n",
      "6000 : 0.6410000000000005\n",
      "7000 : 0.6570000000000005\n",
      "8000 : 0.6850000000000005\n",
      "9000 : 0.6330000000000005\n",
      "10000 : 0.6560000000000005\n",
      "11000 : 0.6930000000000005\n",
      "12000 : 0.6930000000000005\n",
      "13000 : 0.6840000000000005\n",
      "14000 : 0.7000000000000005\n",
      "15000 : 0.6710000000000005\n",
      "16000 : 0.6700000000000005\n",
      "17000 : 0.6840000000000005\n",
      "18000 : 0.6580000000000005\n",
      "19000 : 0.6710000000000005\n",
      "20000 : 0.7020000000000005\n",
      "21000 : 0.6490000000000005\n",
      "22000 : 0.7000000000000005\n",
      "23000 : 0.6660000000000005\n",
      "24000 : 0.6710000000000005\n",
      "25000 : 0.6530000000000005\n",
      "26000 : 0.6700000000000005\n",
      "27000 : 0.6580000000000005\n",
      "28000 : 0.6580000000000005\n",
      "29000 : 0.6830000000000005\n",
      "30000 : 0.6950000000000005\n",
      "31000 : 0.6560000000000005\n",
      "32000 : 0.6720000000000005\n",
      "33000 : 0.7110000000000005\n",
      "34000 : 0.6680000000000005\n",
      "35000 : 0.6500000000000005\n",
      "36000 : 0.6940000000000005\n",
      "37000 : 0.6770000000000005\n",
      "38000 : 0.6670000000000005\n",
      "39000 : 0.6860000000000005\n",
      "40000 : 0.6770000000000005\n",
      "41000 : 0.6770000000000005\n",
      "42000 : 0.6530000000000005\n",
      "43000 : 0.6980000000000005\n",
      "44000 : 0.6710000000000005\n",
      "45000 : 0.6880000000000005\n",
      "46000 : 0.6510000000000005\n",
      "47000 : 0.6510000000000005\n",
      "48000 : 0.6990000000000005\n",
      "49000 : 0.6900000000000005\n",
      "50000 : 0.6710000000000005\n",
      "51000 : 0.6760000000000005\n",
      "52000 : 0.6670000000000005\n",
      "53000 : 0.6710000000000005\n",
      "54000 : 0.6610000000000005\n",
      "55000 : 0.6930000000000005\n",
      "56000 : 0.6410000000000005\n",
      "57000 : 0.6050000000000004\n",
      "58000 : 0.7000000000000005\n",
      "59000 : 0.6770000000000005\n",
      "60000 : 0.6720000000000005\n",
      "61000 : 0.7200000000000005\n",
      "62000 : 0.6980000000000005\n",
      "63000 : 0.6790000000000005\n",
      "64000 : 0.6940000000000005\n",
      "65000 : 0.6480000000000005\n",
      "66000 : 0.6680000000000005\n",
      "67000 : 0.7010000000000005\n",
      "68000 : 0.6680000000000005\n",
      "69000 : 0.6890000000000005\n",
      "70000 : 0.6410000000000005\n",
      "71000 : 0.6840000000000005\n",
      "72000 : 0.6510000000000005\n",
      "73000 : 0.6800000000000005\n",
      "74000 : 0.6930000000000005\n",
      "75000 : 0.6750000000000005\n",
      "76000 : 0.6810000000000005\n",
      "77000 : 0.6720000000000005\n",
      "78000 : 0.6470000000000005\n",
      "79000 : 0.6840000000000005\n",
      "80000 : 0.6750000000000005\n",
      "81000 : 0.6590000000000005\n",
      "82000 : 0.6930000000000005\n",
      "83000 : 0.6740000000000005\n",
      "84000 : 0.6780000000000005\n",
      "85000 : 0.7010000000000005\n",
      "86000 : 0.6880000000000005\n",
      "87000 : 0.6780000000000005\n",
      "88000 : 0.6750000000000005\n",
      "89000 : 0.6650000000000005\n",
      "90000 : 0.6650000000000005\n",
      "91000 : 0.6810000000000005\n",
      "92000 : 0.7170000000000005\n",
      "93000 : 0.6680000000000005\n",
      "94000 : 0.6570000000000005\n",
      "95000 : 0.7100000000000005\n",
      "96000 : 0.6800000000000005\n",
      "97000 : 0.7090000000000005\n",
      "98000 : 0.7100000000000005\n",
      "99000 : 0.6620000000000005\n",
      "100000 : 0.6910000000000005\n"
     ]
    },
    {
     "data": {
      "image/png": "[encoded data removed]",
      "text/plain": [
       "<Figure size 432x288 with 1 Axes>"
      ]
     },
     "metadata": {
      "needs_background": "light"
     },
     "output_type": "display_data"
    }
   ],
   "source": [
    "learning_chart(full_rewards,100000,1000)"
   ]
  },
  {
   "cell_type": "code",
   "execution_count": null,
   "metadata": {},
   "outputs": [],
   "source": [
    "print_table(\"q_table\",q)"
   ]
  },
  {
   "cell_type": "code",
   "execution_count": null,
   "metadata": {},
   "outputs": [],
   "source": [
    "def fancy_visual(value_func,policy_int,size):    \n",
    "    grid = size\n",
    "    f, ax = plt.subplots(figsize=(11, 9))\n",
    "    cmap = seaborn.diverging_palette(220, 10, as_cmap=True)\n",
    "    reshaped=np.reshape(value_func,(grid,grid))\n",
    "    seaborn.heatmap(reshaped, cmap=cmap, vmax=1.1,\n",
    "                square=True, xticklabels=grid+1, yticklabels=grid+1,\n",
    "                linewidths=.5, cbar_kws={\"shrink\": .5}, ax=ax, annot=True, fmt=\"f\")\n",
    "    counter=0\n",
    "    for j in range(0, size):\n",
    "        for i in range(0, size):\n",
    "            if policy_int[counter]==1:\n",
    "                plt.text(i+0.5, j+0.7, u'\\u2193', fontsize=12)\n",
    "            elif policy_int[counter]==3:\n",
    "                plt.text(i+0.5, j+0.7, u'\\u2191', fontsize=12)\n",
    "            elif policy_int[counter]==0:\n",
    "                plt.text(i+0.5, j+0.7, u'\\u2190', fontsize=12)\n",
    "            else:\n",
    "                plt.text(i+0.5, j+0.7, u'\\u2192', fontsize=12)\n",
    "            counter=counter+1\n",
    "\n",
    "    plt.title('Heatmap of policy iteration with value function values and directions')\n",
    "    print('Value Function',value_func)\n",
    "    print('Policy',policy_int)\n",
    "    plt.show()"
   ]
  },
  {
   "cell_type": "code",
   "execution_count": null,
   "metadata": {},
   "outputs": [],
   "source": [
    "#Visualize Agent training for the first 5 iterations\n",
    "\n",
    "for episode in range(5):\n",
    "    state =  env.reset()\n",
    "    done = False\n",
    "    print(\"** Episode \", episode+1, \"**\\n\\n\\n\\n\")\n",
    "    time.sleep(1)\n",
    "    \n",
    "    for step in range(max_steps_per_episode):\n",
    "        clear_output(wait = True)\n",
    "        env.render()\n",
    "        time.sleep(0.3)\n",
    "        \n",
    "        action = np.argmax(q[state,:])\n",
    "        new_state, reward, done, info = env.step(action)\n",
    "        \n",
    "        if done:\n",
    "            clear_output(wait=True)\n",
    "            env.render()\n",
    "            if reward == 1:\n",
    "                print(\"**You reached the goal!**\")\n",
    "                time.sleep(3)\n",
    "            else:\n",
    "                print(\"**You fell through a hole!**\")\n",
    "                time.sleep(3)\n",
    "            clear_output(wait=True)\n",
    "            break\n",
    "            \n",
    "        state = new_state\n",
    "        \n",
    "env.close()"
   ]
  }
 ],
 "metadata": {
  "kernelspec": {
   "display_name": "Python 3",
   "language": "python",
   "name": "python3"
  },
  "language_info": {
   "codemirror_mode": {
    "name": "ipython",
    "version": 3
   },
   "file_extension": ".py",
   "mimetype": "text/x-python",
   "name": "python",
   "nbconvert_exporter": "python",
   "pygments_lexer": "ipython3",
   "version": "3.7.6"
  }
 },
 "nbformat": 4,
 "nbformat_minor": 4
}
