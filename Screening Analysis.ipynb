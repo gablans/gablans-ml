{
 "cells": [
  {
   "cell_type": "code",
   "execution_count": 1,
   "metadata": {},
   "outputs": [],
   "source": [
    "### Libraries required"
   ]
  },
  {
   "cell_type": "code",
   "execution_count": 2,
   "metadata": {},
   "outputs": [],
   "source": [
    "import pandas as pd\n",
    "import numpy as np\n",
    "from sklearn.ensemble import AdaBoostClassifier\n",
    "from sklearn.model_selection import train_test_split\n",
    "from sklearn import metrics\n",
    "\n",
    "import matplotlib.pyplot as plt\n",
    "from matplotlib import style\n",
    "style.use(\"fivethirtyeight\")\n"
   ]
  },
  {
   "cell_type": "code",
   "execution_count": 3,
   "metadata": {},
   "outputs": [],
   "source": [
    "#Setting working directory\n",
    "import os\n",
    "os.chdir(\"/home/gabe/gatech/ml\")"
   ]
  },
  {
   "cell_type": "code",
   "execution_count": 4,
   "metadata": {},
   "outputs": [
    {
     "name": "stderr",
     "output_type": "stream",
     "text": [
      "/home/gabe/anaconda3/lib/python3.7/site-packages/IPython/core/interactiveshell.py:3063: DtypeWarning: Columns (1,2,4,16) have mixed types.Specify dtype option on import or set low_memory=False.\n",
      "  interactivity=interactivity, compiler=compiler, result=result)\n"
     ]
    },
    {
     "data": {
      "text/plain": [
       "(1337185, 22)"
      ]
     },
     "execution_count": 4,
     "metadata": {},
     "output_type": "execute_result"
    }
   ],
   "source": [
    "#Reading Data\n",
    "data = pd.read_csv('tamizajes-cdmx.csv')\n",
    "data.shape"
   ]
  },
  {
   "cell_type": "code",
   "execution_count": 5,
   "metadata": {},
   "outputs": [
    {
     "name": "stdout",
     "output_type": "stream",
     "text": [
      "<class 'pandas.core.frame.DataFrame'>\n",
      "RangeIndex: 1337185 entries, 0 to 1337184\n",
      "Data columns (total 22 columns):\n",
      " #   Column                        Non-Null Count    Dtype  \n",
      "---  ------                        --------------    -----  \n",
      " 0   fuente                        1337185 non-null  object \n",
      " 1   uuid                          1337185 non-null  object \n",
      " 2   folio                         415890 non-null   object \n",
      " 3   codigo_postal_clean           1029044 non-null  float64\n",
      " 4   colonia_clean                 542228 non-null   object \n",
      " 5   conjuntivitis_clean           1337185 non-null  int64  \n",
      " 6   dificultad_respirar_clean     1337185 non-null  int64  \n",
      " 7   dolor_cabeza_clean            1337185 non-null  int64  \n",
      " 8   dolor_cuerpo_clean            1337185 non-null  int64  \n",
      " 9   dolor_garganta_clean          1337185 non-null  int64  \n",
      " 10  dolor_pecho_clean             1337185 non-null  int64  \n",
      " 11  edad_clean                    535972 non-null   float64\n",
      " 12  escurrimiento_nasal_clean     1337185 non-null  int64  \n",
      " 13  fecha_salida_clean            1337185 non-null  object \n",
      " 14  fiebre_clean                  1337185 non-null  int64  \n",
      " 15  morbilidades_clean            1337185 non-null  int64  \n",
      " 16  resultado_coronavirus_fase_2  643340 non-null   object \n",
      " 17  sexo_clean                    1337185 non-null  int64  \n",
      " 18  tos_clean                     1337185 non-null  int64  \n",
      " 19  alcaldia_clean                714926 non-null   float64\n",
      " 20  tiene_kit                     1337185 non-null  int64  \n",
      " 21  uuid_id                       1337185 non-null  float64\n",
      "dtypes: float64(4), int64(12), object(6)\n",
      "memory usage: 224.4+ MB\n"
     ]
    }
   ],
   "source": [
    "data.info()"
   ]
  },
  {
   "cell_type": "code",
   "execution_count": 6,
   "metadata": {},
   "outputs": [
    {
     "data": {
      "text/html": [
       "<div>\n",
       "<style scoped>\n",
       "    .dataframe tbody tr th:only-of-type {\n",
       "        vertical-align: middle;\n",
       "    }\n",
       "\n",
       "    .dataframe tbody tr th {\n",
       "        vertical-align: top;\n",
       "    }\n",
       "\n",
       "    .dataframe thead th {\n",
       "        text-align: right;\n",
       "    }\n",
       "</style>\n",
       "<table border=\"1\" class=\"dataframe\">\n",
       "  <thead>\n",
       "    <tr style=\"text-align: right;\">\n",
       "      <th></th>\n",
       "      <th>conjuntivitis_clean</th>\n",
       "      <th>dificultad_respirar_clean</th>\n",
       "      <th>dolor_cabeza_clean</th>\n",
       "      <th>dolor_cuerpo_clean</th>\n",
       "      <th>dolor_garganta_clean</th>\n",
       "      <th>dolor_pecho_clean</th>\n",
       "      <th>edad_clean</th>\n",
       "      <th>escurrimiento_nasal_clean</th>\n",
       "      <th>fiebre_clean</th>\n",
       "      <th>morbilidades_clean</th>\n",
       "      <th>resultado_coronavirus_fase_2</th>\n",
       "      <th>sexo_clean</th>\n",
       "      <th>tos_clean</th>\n",
       "      <th>tiene_kit</th>\n",
       "    </tr>\n",
       "  </thead>\n",
       "  <tbody>\n",
       "    <tr>\n",
       "      <th>1336971</th>\n",
       "      <td>1</td>\n",
       "      <td>1</td>\n",
       "      <td>1</td>\n",
       "      <td>1</td>\n",
       "      <td>1</td>\n",
       "      <td>1</td>\n",
       "      <td>23.0</td>\n",
       "      <td>1</td>\n",
       "      <td>2</td>\n",
       "      <td>1</td>\n",
       "      <td>Sospechoso grave</td>\n",
       "      <td>2</td>\n",
       "      <td>1</td>\n",
       "      <td>1</td>\n",
       "    </tr>\n",
       "    <tr>\n",
       "      <th>1336972</th>\n",
       "      <td>2</td>\n",
       "      <td>2</td>\n",
       "      <td>2</td>\n",
       "      <td>2</td>\n",
       "      <td>2</td>\n",
       "      <td>2</td>\n",
       "      <td>26.0</td>\n",
       "      <td>2</td>\n",
       "      <td>2</td>\n",
       "      <td>2</td>\n",
       "      <td>Sin sintomas</td>\n",
       "      <td>2</td>\n",
       "      <td>2</td>\n",
       "      <td>1</td>\n",
       "    </tr>\n",
       "    <tr>\n",
       "      <th>1336980</th>\n",
       "      <td>2</td>\n",
       "      <td>2</td>\n",
       "      <td>2</td>\n",
       "      <td>2</td>\n",
       "      <td>2</td>\n",
       "      <td>2</td>\n",
       "      <td>58.0</td>\n",
       "      <td>2</td>\n",
       "      <td>2</td>\n",
       "      <td>2</td>\n",
       "      <td>Sin sintomas</td>\n",
       "      <td>2</td>\n",
       "      <td>2</td>\n",
       "      <td>1</td>\n",
       "    </tr>\n",
       "    <tr>\n",
       "      <th>1337175</th>\n",
       "      <td>2</td>\n",
       "      <td>2</td>\n",
       "      <td>2</td>\n",
       "      <td>2</td>\n",
       "      <td>2</td>\n",
       "      <td>2</td>\n",
       "      <td>66.0</td>\n",
       "      <td>2</td>\n",
       "      <td>2</td>\n",
       "      <td>1</td>\n",
       "      <td>Sin sintomas</td>\n",
       "      <td>2</td>\n",
       "      <td>2</td>\n",
       "      <td>2</td>\n",
       "    </tr>\n",
       "    <tr>\n",
       "      <th>1337179</th>\n",
       "      <td>2</td>\n",
       "      <td>2</td>\n",
       "      <td>2</td>\n",
       "      <td>2</td>\n",
       "      <td>2</td>\n",
       "      <td>2</td>\n",
       "      <td>55.0</td>\n",
       "      <td>2</td>\n",
       "      <td>2</td>\n",
       "      <td>2</td>\n",
       "      <td>Sin sintomas</td>\n",
       "      <td>1</td>\n",
       "      <td>2</td>\n",
       "      <td>2</td>\n",
       "    </tr>\n",
       "  </tbody>\n",
       "</table>\n",
       "</div>"
      ],
      "text/plain": [
       "         conjuntivitis_clean  dificultad_respirar_clean  dolor_cabeza_clean  \\\n",
       "1336971                    1                          1                   1   \n",
       "1336972                    2                          2                   2   \n",
       "1336980                    2                          2                   2   \n",
       "1337175                    2                          2                   2   \n",
       "1337179                    2                          2                   2   \n",
       "\n",
       "         dolor_cuerpo_clean  dolor_garganta_clean  dolor_pecho_clean  \\\n",
       "1336971                   1                     1                  1   \n",
       "1336972                   2                     2                  2   \n",
       "1336980                   2                     2                  2   \n",
       "1337175                   2                     2                  2   \n",
       "1337179                   2                     2                  2   \n",
       "\n",
       "         edad_clean  escurrimiento_nasal_clean  fiebre_clean  \\\n",
       "1336971        23.0                          1             2   \n",
       "1336972        26.0                          2             2   \n",
       "1336980        58.0                          2             2   \n",
       "1337175        66.0                          2             2   \n",
       "1337179        55.0                          2             2   \n",
       "\n",
       "         morbilidades_clean resultado_coronavirus_fase_2  sexo_clean  \\\n",
       "1336971                   1             Sospechoso grave           2   \n",
       "1336972                   2                 Sin sintomas           2   \n",
       "1336980                   2                 Sin sintomas           2   \n",
       "1337175                   1                 Sin sintomas           2   \n",
       "1337179                   2                 Sin sintomas           1   \n",
       "\n",
       "         tos_clean  tiene_kit  \n",
       "1336971          1          1  \n",
       "1336972          2          1  \n",
       "1336980          2          1  \n",
       "1337175          2          2  \n",
       "1337179          2          2  "
      ]
     },
     "execution_count": 6,
     "metadata": {},
     "output_type": "execute_result"
    }
   ],
   "source": [
    "#How many columns and rows\n",
    "cols = [0,1,2,3,4,13,19,21]\n",
    "\n",
    "data.drop(data.columns[cols],axis=1,inplace=True)\n",
    "data = data[data['resultado_coronavirus_fase_2'].notna()]\n",
    "data = data[data['edad_clean'].notna()]\n",
    "data = data[data['sexo_clean'].notna()]\n",
    "\n",
    "data.tail()\n",
    "\n"
   ]
  },
  {
   "cell_type": "code",
   "execution_count": 7,
   "metadata": {},
   "outputs": [
    {
     "data": {
      "image/png": "[encoded data removed]",
      "text/plain": [
       "<Figure size 432x288 with 1 Axes>"
      ]
     },
     "metadata": {
      "needs_background": "light"
     },
     "output_type": "display_data"
    }
   ],
   "source": [
    "import matplotlib.pyplot as plt\n",
    "%matplotlib inline\n",
    "\n",
    "data1 = data.loc[data['resultado_coronavirus_fase_2'] == \"Sin sintomas\"] \n",
    "data2 = data.loc[data['resultado_coronavirus_fase_2'] == \"Sospechoso grave\"] \n",
    "\n",
    "data['assessment'] = np.where(data['resultado_coronavirus_fase_2']== 'Sin sintomas', 1, 0)\n",
    "data['assessment'] = np.where(data['resultado_coronavirus_fase_2']== 'Sospechoso grave', 4, data['assessment'])\n",
    "data['assessment'] = np.where(data['resultado_coronavirus_fase_2']== 'Sospechoso leve', 3, data['assessment'])\n",
    "data['assessment'] = np.where(data['resultado_coronavirus_fase_2']== 'Persona sintomas', 2, data['assessment'])\n",
    "data['assessment'] = np.where(data['resultado_coronavirus_fase_2']== 'Positivo', 5, data['assessment'])\n",
    "\n",
    "plt.xlabel('Assessment')\n",
    "plt.ylabel('Age')\n",
    "plt.scatter(data['assessment'],data['edad_clean'] ,color=\"green\",marker='+')\n",
    "\n",
    "item_counts = data['assessment'].value_counts()\n",
    "\n",
    "\n",
    "#data.head()\n"
   ]
  },
  {
   "cell_type": "code",
   "execution_count": 9,
   "metadata": {},
   "outputs": [
    {
     "name": "stdout",
     "output_type": "stream",
     "text": [
      "Persona sintomas    67140\n",
      "Sin sintomas        48939\n",
      "Sospechoso grave    12515\n",
      "Sospechoso leve     12290\n",
      "Positivo               29\n",
      "Name: resultado_coronavirus_fase_2, dtype: int64\n"
     ]
    },
    {
     "data": {
      "image/png": "[encoded data removed]",
      "text/plain": [
       "<Figure size 432x288 with 1 Axes>"
      ]
     },
     "metadata": {
      "needs_background": "light"
     },
     "output_type": "display_data"
    }
   ],
   "source": [
    "item_counts = data['resultado_coronavirus_fase_2'].value_counts()\n",
    "print(item_counts)\n",
    "\n",
    "plt.xlabel('Gender (1-Male / 2-Female)')\n",
    "plt.ylabel('Age')\n",
    "plt.scatter(x=data['sexo_clean'],y=data['edad_clean'], s=data[\"assessment\"] * 200);"
   ]
  },
  {
   "cell_type": "code",
   "execution_count": null,
   "metadata": {},
   "outputs": [],
   "source": [
    "df = pd.DataFrame(np.random.rand(10, 4), columns=[\"a\", \"b\", \"c\", \"d\"])\n",
    "df = data.sample(n=1000, random_state=1)\n",
    "df.plot.scatter(x=\"assessment\", y=\"edad_clean\");\n",
    "df.plot.scatter(x=\"a\", y=\"b\", data['assessment'].value_counts());\n",
    "\n",
    "#data.plot.scatter(x=data[\"a\"], y=data[\"b\"], s=data[\"assessment\"] * 200);"
   ]
  },
  {
   "cell_type": "code",
   "execution_count": null,
   "metadata": {},
   "outputs": [],
   "source": [
    "cols = [0,1,2,3,4]\n",
    "\n",
    "data.drop(data.columns[cols],axis=1,inplace=True)\n",
    "\n",
    "data.head()"
   ]
  },
  {
   "cell_type": "code",
   "execution_count": null,
   "metadata": {},
   "outputs": [],
   "source": [
    "item_counts = data[\"resultado_coronavirus_fase_2\"].value_counts()\n",
    "print(item_counts)"
   ]
  },
  {
   "cell_type": "code",
   "execution_count": null,
   "metadata": {},
   "outputs": [],
   "source": []
  }
 ],
 "metadata": {
  "kernelspec": {
   "display_name": "Python 3",
   "language": "python",
   "name": "python3"
  },
  "language_info": {
   "codemirror_mode": {
    "name": "ipython",
    "version": 3
   },
   "file_extension": ".py",
   "mimetype": "text/x-python",
   "name": "python",
   "nbconvert_exporter": "python",
   "pygments_lexer": "ipython3",
   "version": "3.7.6"
  }
 },
 "nbformat": 4,
 "nbformat_minor": 4
}
