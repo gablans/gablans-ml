{
 "cells": [
  {
   "cell_type": "code",
   "execution_count": 1,
   "metadata": {},
   "outputs": [],
   "source": [
    "### Libraries required"
   ]
  },
  {
   "cell_type": "code",
   "execution_count": 2,
   "metadata": {},
   "outputs": [],
   "source": [
    "import pandas as pd\n",
    "import numpy as np\n",
    "from sklearn.model_selection import train_test_split\n",
    "from sklearn import metrics\n",
    "\n",
    "import matplotlib.pyplot as plt\n",
    "from matplotlib import style\n",
    "style.use(\"fivethirtyeight\")\n"
   ]
  },
  {
   "cell_type": "code",
   "execution_count": 3,
   "metadata": {},
   "outputs": [],
   "source": [
    "#Setting working directory\n",
    "import os\n",
    "os.chdir(\"/home/gabe/gatech/ml\")"
   ]
  },
  {
   "cell_type": "code",
   "execution_count": 4,
   "metadata": {},
   "outputs": [
    {
     "name": "stderr",
     "output_type": "stream",
     "text": [
      "/home/gabe/anaconda3/lib/python3.7/site-packages/IPython/core/interactiveshell.py:3063: DtypeWarning: Columns (4) have mixed types.Specify dtype option on import or set low_memory=False.\n",
      "  interactivity=interactivity, compiler=compiler, result=result)\n"
     ]
    },
    {
     "name": "stdout",
     "output_type": "stream",
     "text": [
      "<class 'pandas.core.frame.DataFrame'>\n",
      "RangeIndex: 1111016 entries, 0 to 1111015\n",
      "Data columns (total 10 columns):\n",
      " #   Column          Non-Null Count    Dtype \n",
      "---  ------          --------------    ----- \n",
      " 0   current_status  1111016 non-null  object\n",
      " 1   cdc_report_dt   1111016 non-null  object\n",
      " 2   sex             1111016 non-null  object\n",
      " 3   age_group       1111016 non-null  object\n",
      " 4   pos_spec_dt     582430 non-null   object\n",
      " 5   hosp_yn         1111016 non-null  object\n",
      " 6   icu_yn          1111016 non-null  object\n",
      " 7   death_yn        1111016 non-null  object\n",
      " 8   medcond_yn      1111016 non-null  object\n",
      " 9   onset_dt        419597 non-null   object\n",
      "dtypes: object(10)\n",
      "memory usage: 84.8+ MB\n"
     ]
    },
    {
     "data": {
      "text/plain": [
       "(1111016, 10)"
      ]
     },
     "execution_count": 4,
     "metadata": {},
     "output_type": "execute_result"
    }
   ],
   "source": [
    "#Reading Data\n",
    "data = pd.read_csv('covid_case_survey_US.csv')\n",
    "\n",
    "data.info()\n",
    "data.shape"
   ]
  },
  {
   "cell_type": "code",
   "execution_count": 5,
   "metadata": {},
   "outputs": [
    {
     "data": {
      "text/html": [
       "<div>\n",
       "<style scoped>\n",
       "    .dataframe tbody tr th:only-of-type {\n",
       "        vertical-align: middle;\n",
       "    }\n",
       "\n",
       "    .dataframe tbody tr th {\n",
       "        vertical-align: top;\n",
       "    }\n",
       "\n",
       "    .dataframe thead th {\n",
       "        text-align: right;\n",
       "    }\n",
       "</style>\n",
       "<table border=\"1\" class=\"dataframe\">\n",
       "  <thead>\n",
       "    <tr style=\"text-align: right;\">\n",
       "      <th></th>\n",
       "      <th>current_status</th>\n",
       "      <th>sex</th>\n",
       "      <th>age_group</th>\n",
       "      <th>hosp_yn</th>\n",
       "      <th>icu_yn</th>\n",
       "      <th>death_yn</th>\n",
       "      <th>medcond_yn</th>\n",
       "    </tr>\n",
       "  </thead>\n",
       "  <tbody>\n",
       "    <tr>\n",
       "      <th>1</th>\n",
       "      <td>Laboratory-confirmed case</td>\n",
       "      <td>Male</td>\n",
       "      <td>10 - 19 Years</td>\n",
       "      <td>Unknown</td>\n",
       "      <td>Unknown</td>\n",
       "      <td>Unknown</td>\n",
       "      <td>Unknown</td>\n",
       "    </tr>\n",
       "    <tr>\n",
       "      <th>2</th>\n",
       "      <td>Laboratory-confirmed case</td>\n",
       "      <td>Male</td>\n",
       "      <td>10 - 19 Years</td>\n",
       "      <td>No</td>\n",
       "      <td>No</td>\n",
       "      <td>No</td>\n",
       "      <td>No</td>\n",
       "    </tr>\n",
       "    <tr>\n",
       "      <th>3</th>\n",
       "      <td>Laboratory-confirmed case</td>\n",
       "      <td>Male</td>\n",
       "      <td>10 - 19 Years</td>\n",
       "      <td>No</td>\n",
       "      <td>Unknown</td>\n",
       "      <td>Unknown</td>\n",
       "      <td>Unknown</td>\n",
       "    </tr>\n",
       "    <tr>\n",
       "      <th>4</th>\n",
       "      <td>Laboratory-confirmed case</td>\n",
       "      <td>Male</td>\n",
       "      <td>10 - 19 Years</td>\n",
       "      <td>No</td>\n",
       "      <td>No</td>\n",
       "      <td>No</td>\n",
       "      <td>No</td>\n",
       "    </tr>\n",
       "    <tr>\n",
       "      <th>5</th>\n",
       "      <td>Laboratory-confirmed case</td>\n",
       "      <td>Male</td>\n",
       "      <td>10 - 19 Years</td>\n",
       "      <td>Unknown</td>\n",
       "      <td>Unknown</td>\n",
       "      <td>Unknown</td>\n",
       "      <td>Unknown</td>\n",
       "    </tr>\n",
       "  </tbody>\n",
       "</table>\n",
       "</div>"
      ],
      "text/plain": [
       "              current_status   sex      age_group  hosp_yn   icu_yn death_yn  \\\n",
       "1  Laboratory-confirmed case  Male  10 - 19 Years  Unknown  Unknown  Unknown   \n",
       "2  Laboratory-confirmed case  Male  10 - 19 Years       No       No       No   \n",
       "3  Laboratory-confirmed case  Male  10 - 19 Years       No  Unknown  Unknown   \n",
       "4  Laboratory-confirmed case  Male  10 - 19 Years       No       No       No   \n",
       "5  Laboratory-confirmed case  Male  10 - 19 Years  Unknown  Unknown  Unknown   \n",
       "\n",
       "  medcond_yn  \n",
       "1    Unknown  \n",
       "2         No  \n",
       "3    Unknown  \n",
       "4         No  \n",
       "5    Unknown  "
      ]
     },
     "execution_count": 5,
     "metadata": {},
     "output_type": "execute_result"
    }
   ],
   "source": [
    "#Drop dates and probable cases. Probable intances are noise at this point.\n",
    "#Drop unknowns for sex and age_group since it does not provide any insights on severity.\n",
    "\n",
    "cols = [1,4,9]\n",
    "\n",
    "data.drop(data.columns[cols],axis=1,inplace=True)\n",
    "data = data[data.current_status == \"Laboratory-confirmed case\"]\n",
    "data = data[(data.sex == \"Female\") | (data.sex == \"Male\")]\n",
    "data = data[data.age_group != \"Unknown\"]\n",
    "data.head()"
   ]
  },
  {
   "cell_type": "code",
   "execution_count": 6,
   "metadata": {},
   "outputs": [
    {
     "name": "stdout",
     "output_type": "stream",
     "text": [
      " 0    781448\n",
      " 1    197550\n",
      "-1     84630\n",
      "Name: medcond_yn, dtype: int64\n"
     ]
    }
   ],
   "source": [
    "#Add different weights to medical condition since it is important to consider it\n",
    "#eventhough you don't have too much data on it\n",
    "\n",
    "data['medcond_yn'] = np.where(data['medcond_yn']== 'Yes', 1, data['medcond_yn'])\n",
    "data['medcond_yn'] = np.where(data['medcond_yn']== 'No', -1, data['medcond_yn'])\n",
    "data['medcond_yn'] = np.where(data['medcond_yn']== 'Unknown', 0, data['medcond_yn'])\n",
    "\n",
    "data.shape\n",
    "item_counts = data[\"medcond_yn\"].value_counts()\n",
    "print(item_counts)"
   ]
  },
  {
   "cell_type": "code",
   "execution_count": 7,
   "metadata": {},
   "outputs": [
    {
     "data": {
      "text/html": [
       "<div>\n",
       "<style scoped>\n",
       "    .dataframe tbody tr th:only-of-type {\n",
       "        vertical-align: middle;\n",
       "    }\n",
       "\n",
       "    .dataframe tbody tr th {\n",
       "        vertical-align: top;\n",
       "    }\n",
       "\n",
       "    .dataframe thead th {\n",
       "        text-align: right;\n",
       "    }\n",
       "</style>\n",
       "<table border=\"1\" class=\"dataframe\">\n",
       "  <thead>\n",
       "    <tr style=\"text-align: right;\">\n",
       "      <th></th>\n",
       "      <th>current_status</th>\n",
       "      <th>sex</th>\n",
       "      <th>age_group</th>\n",
       "      <th>medcond_yn</th>\n",
       "      <th>severity</th>\n",
       "    </tr>\n",
       "  </thead>\n",
       "  <tbody>\n",
       "    <tr>\n",
       "      <th>1</th>\n",
       "      <td>Laboratory-confirmed case</td>\n",
       "      <td>Male</td>\n",
       "      <td>10 - 19 Years</td>\n",
       "      <td>0</td>\n",
       "      <td>Care at Home</td>\n",
       "    </tr>\n",
       "    <tr>\n",
       "      <th>2</th>\n",
       "      <td>Laboratory-confirmed case</td>\n",
       "      <td>Male</td>\n",
       "      <td>10 - 19 Years</td>\n",
       "      <td>-1</td>\n",
       "      <td>Care at Home</td>\n",
       "    </tr>\n",
       "    <tr>\n",
       "      <th>3</th>\n",
       "      <td>Laboratory-confirmed case</td>\n",
       "      <td>Male</td>\n",
       "      <td>10 - 19 Years</td>\n",
       "      <td>0</td>\n",
       "      <td>Care at Home</td>\n",
       "    </tr>\n",
       "    <tr>\n",
       "      <th>4</th>\n",
       "      <td>Laboratory-confirmed case</td>\n",
       "      <td>Male</td>\n",
       "      <td>10 - 19 Years</td>\n",
       "      <td>-1</td>\n",
       "      <td>Care at Home</td>\n",
       "    </tr>\n",
       "    <tr>\n",
       "      <th>5</th>\n",
       "      <td>Laboratory-confirmed case</td>\n",
       "      <td>Male</td>\n",
       "      <td>10 - 19 Years</td>\n",
       "      <td>0</td>\n",
       "      <td>Care at Home</td>\n",
       "    </tr>\n",
       "  </tbody>\n",
       "</table>\n",
       "</div>"
      ],
      "text/plain": [
       "              current_status   sex      age_group medcond_yn      severity\n",
       "1  Laboratory-confirmed case  Male  10 - 19 Years          0  Care at Home\n",
       "2  Laboratory-confirmed case  Male  10 - 19 Years         -1  Care at Home\n",
       "3  Laboratory-confirmed case  Male  10 - 19 Years          0  Care at Home\n",
       "4  Laboratory-confirmed case  Male  10 - 19 Years         -1  Care at Home\n",
       "5  Laboratory-confirmed case  Male  10 - 19 Years          0  Care at Home"
      ]
     },
     "execution_count": 7,
     "metadata": {},
     "output_type": "execute_result"
    }
   ],
   "source": [
    "data['severity'] = np.where(data['hosp_yn']== 'Yes', 'Hospitalized', 'Care at Home')\n",
    "data['severity'] = np.where(data['icu_yn']== 'Yes', 'Intensive Care', data['severity'])\n",
    "data['severity'] = np.where(data['death_yn']== 'Yes', 'Death', data['severity'])\n",
    "\n",
    "cols = [3,4,5]\n",
    "\n",
    "data.drop(data.columns[cols],axis=1,inplace=True)\n",
    "data.head()"
   ]
  },
  {
   "cell_type": "code",
   "execution_count": 8,
   "metadata": {},
   "outputs": [],
   "source": [
    "data['severity_type'] = np.select(\n",
    "    [\n",
    "        data['severity'] == \"Care at Home\", \n",
    "        data['severity'] == \"Hospitalized\",\n",
    "        data['severity'] == \"Intensive Care\",\n",
    "        data['severity'] == \"Death\",\n",
    "    ], \n",
    "    [\n",
    "        1, \n",
    "        2,\n",
    "        3,\n",
    "        4\n",
    "    ], \n",
    "    default=1\n",
    ")"
   ]
  },
  {
   "cell_type": "code",
   "execution_count": 9,
   "metadata": {},
   "outputs": [
    {
     "name": "stdout",
     "output_type": "stream",
     "text": [
      "Care at Home      886558\n",
      "Hospitalized       98889\n",
      "Death              63732\n",
      "Intensive Care     14449\n",
      "Name: severity, dtype: int64\n"
     ]
    }
   ],
   "source": [
    "data['sex'] = np.where(data['sex']== 'Male', 1, 2)\n",
    "\n",
    "item_counts = data[\"severity\"].value_counts()\n",
    "print(item_counts)"
   ]
  },
  {
   "cell_type": "code",
   "execution_count": 10,
   "metadata": {},
   "outputs": [
    {
     "name": "stdout",
     "output_type": "stream",
     "text": [
      "50 - 59 Years    196431\n",
      "40 - 49 Years    177785\n",
      "30 - 39 Years    170273\n",
      "60 - 69 Years    151371\n",
      "20 - 29 Years    138517\n",
      "80+ Years         94886\n",
      "70 - 79 Years     89241\n",
      "10 - 19 Years     32733\n",
      "0 - 9 Years       12391\n",
      "Name: age_group, dtype: int64\n"
     ]
    }
   ],
   "source": [
    "item_counts = data[\"age_group\"].value_counts()\n",
    "print(item_counts)"
   ]
  },
  {
   "cell_type": "code",
   "execution_count": 11,
   "metadata": {},
   "outputs": [
    {
     "name": "stdout",
     "output_type": "stream",
     "text": [
      "5    196431\n",
      "4    177785\n",
      "3    170273\n",
      "6    151371\n",
      "2    138517\n",
      "8     94886\n",
      "7     89241\n",
      "1     32733\n",
      "0     12391\n",
      "Name: age_group, dtype: int64\n"
     ]
    }
   ],
   "source": [
    "#age_encoded= pd.get_dummies(data.age_group, prefix='age_group')\n",
    "data['age_group'] = np.where(data['age_group'] == \"0 - 9 Years\", 0,data['age_group'])\n",
    "data['age_group'] = np.where(data['age_group'] == \"10 - 19 Years\", 1,data['age_group'])\n",
    "data['age_group'] = np.where(data['age_group'] == \"20 - 29 Years\", 2,data['age_group'])\n",
    "data['age_group'] = np.where(data['age_group'] == \"30 - 39 Years\", 3,data['age_group'])\n",
    "data['age_group'] = np.where(data['age_group'] == \"40 - 49 Years\", 4,data['age_group'])\n",
    "data['age_group'] = np.where(data['age_group'] == \"50 - 59 Years\", 5,data['age_group'])\n",
    "data['age_group'] = np.where(data['age_group'] == \"60 - 69 Years\", 6,data['age_group'])\n",
    "data['age_group'] = np.where(data['age_group'] == \"70 - 79 Years\", 7,data['age_group'])\n",
    "data['age_group'] = np.where(data['age_group'] == \"80+ Years\", 8,data['age_group'])\n",
    " \n",
    "#data= data.drop(['age_group'],axis=1)\n",
    "#data = pd.concat([data, age_encoded], axis=1)\n",
    "#data.shape\n",
    "\n",
    "item_counts = data['age_group'].value_counts()\n",
    "print(item_counts)\n",
    "\n",
    "data = data.sample(n=150000, random_state=1)\n"
   ]
  },
  {
   "cell_type": "code",
   "execution_count": 12,
   "metadata": {},
   "outputs": [
    {
     "data": {
      "text/plain": [
       "39773     1\n",
       "300051    1\n",
       "594737    1\n",
       "740107    1\n",
       "712692    1\n",
       "Name: severity_type, dtype: int64"
      ]
     },
     "execution_count": 12,
     "metadata": {},
     "output_type": "execute_result"
    }
   ],
   "source": [
    "y = data[\"severity_type\"]\n",
    "y.head()\n"
   ]
  },
  {
   "cell_type": "code",
   "execution_count": 13,
   "metadata": {},
   "outputs": [
    {
     "data": {
      "text/html": [
       "<div>\n",
       "<style scoped>\n",
       "    .dataframe tbody tr th:only-of-type {\n",
       "        vertical-align: middle;\n",
       "    }\n",
       "\n",
       "    .dataframe tbody tr th {\n",
       "        vertical-align: top;\n",
       "    }\n",
       "\n",
       "    .dataframe thead th {\n",
       "        text-align: right;\n",
       "    }\n",
       "</style>\n",
       "<table border=\"1\" class=\"dataframe\">\n",
       "  <thead>\n",
       "    <tr style=\"text-align: right;\">\n",
       "      <th></th>\n",
       "      <th>current_status</th>\n",
       "      <th>sex</th>\n",
       "      <th>age_group</th>\n",
       "      <th>medcond_yn</th>\n",
       "      <th>severity</th>\n",
       "      <th>severity_type</th>\n",
       "    </tr>\n",
       "  </thead>\n",
       "  <tbody>\n",
       "    <tr>\n",
       "      <th>39773</th>\n",
       "      <td>Laboratory-confirmed case</td>\n",
       "      <td>2</td>\n",
       "      <td>5</td>\n",
       "      <td>0</td>\n",
       "      <td>Care at Home</td>\n",
       "      <td>1</td>\n",
       "    </tr>\n",
       "    <tr>\n",
       "      <th>300051</th>\n",
       "      <td>Laboratory-confirmed case</td>\n",
       "      <td>2</td>\n",
       "      <td>0</td>\n",
       "      <td>-1</td>\n",
       "      <td>Care at Home</td>\n",
       "      <td>1</td>\n",
       "    </tr>\n",
       "    <tr>\n",
       "      <th>594737</th>\n",
       "      <td>Laboratory-confirmed case</td>\n",
       "      <td>2</td>\n",
       "      <td>3</td>\n",
       "      <td>0</td>\n",
       "      <td>Care at Home</td>\n",
       "      <td>1</td>\n",
       "    </tr>\n",
       "    <tr>\n",
       "      <th>740107</th>\n",
       "      <td>Laboratory-confirmed case</td>\n",
       "      <td>2</td>\n",
       "      <td>6</td>\n",
       "      <td>0</td>\n",
       "      <td>Care at Home</td>\n",
       "      <td>1</td>\n",
       "    </tr>\n",
       "    <tr>\n",
       "      <th>712692</th>\n",
       "      <td>Laboratory-confirmed case</td>\n",
       "      <td>2</td>\n",
       "      <td>4</td>\n",
       "      <td>0</td>\n",
       "      <td>Care at Home</td>\n",
       "      <td>1</td>\n",
       "    </tr>\n",
       "  </tbody>\n",
       "</table>\n",
       "</div>"
      ],
      "text/plain": [
       "                   current_status  sex age_group medcond_yn      severity  \\\n",
       "39773   Laboratory-confirmed case    2         5          0  Care at Home   \n",
       "300051  Laboratory-confirmed case    2         0         -1  Care at Home   \n",
       "594737  Laboratory-confirmed case    2         3          0  Care at Home   \n",
       "740107  Laboratory-confirmed case    2         6          0  Care at Home   \n",
       "712692  Laboratory-confirmed case    2         4          0  Care at Home   \n",
       "\n",
       "        severity_type  \n",
       "39773               1  \n",
       "300051              1  \n",
       "594737              1  \n",
       "740107              1  \n",
       "712692              1  "
      ]
     },
     "execution_count": 13,
     "metadata": {},
     "output_type": "execute_result"
    }
   ],
   "source": [
    "data.head()"
   ]
  },
  {
   "cell_type": "code",
   "execution_count": 14,
   "metadata": {},
   "outputs": [
    {
     "data": {
      "text/html": [
       "<div>\n",
       "<style scoped>\n",
       "    .dataframe tbody tr th:only-of-type {\n",
       "        vertical-align: middle;\n",
       "    }\n",
       "\n",
       "    .dataframe tbody tr th {\n",
       "        vertical-align: top;\n",
       "    }\n",
       "\n",
       "    .dataframe thead th {\n",
       "        text-align: right;\n",
       "    }\n",
       "</style>\n",
       "<table border=\"1\" class=\"dataframe\">\n",
       "  <thead>\n",
       "    <tr style=\"text-align: right;\">\n",
       "      <th></th>\n",
       "      <th>sex</th>\n",
       "      <th>age_group</th>\n",
       "      <th>medcond_yn</th>\n",
       "    </tr>\n",
       "  </thead>\n",
       "  <tbody>\n",
       "    <tr>\n",
       "      <th>39773</th>\n",
       "      <td>2</td>\n",
       "      <td>5</td>\n",
       "      <td>0</td>\n",
       "    </tr>\n",
       "    <tr>\n",
       "      <th>300051</th>\n",
       "      <td>2</td>\n",
       "      <td>0</td>\n",
       "      <td>-1</td>\n",
       "    </tr>\n",
       "    <tr>\n",
       "      <th>594737</th>\n",
       "      <td>2</td>\n",
       "      <td>3</td>\n",
       "      <td>0</td>\n",
       "    </tr>\n",
       "    <tr>\n",
       "      <th>740107</th>\n",
       "      <td>2</td>\n",
       "      <td>6</td>\n",
       "      <td>0</td>\n",
       "    </tr>\n",
       "    <tr>\n",
       "      <th>712692</th>\n",
       "      <td>2</td>\n",
       "      <td>4</td>\n",
       "      <td>0</td>\n",
       "    </tr>\n",
       "  </tbody>\n",
       "</table>\n",
       "</div>"
      ],
      "text/plain": [
       "        sex age_group medcond_yn\n",
       "39773     2         5          0\n",
       "300051    2         0         -1\n",
       "594737    2         3          0\n",
       "740107    2         6          0\n",
       "712692    2         4          0"
      ]
     },
     "execution_count": 14,
     "metadata": {},
     "output_type": "execute_result"
    }
   ],
   "source": [
    "selected_columns = [0,4,5]\n",
    "x = data.copy()\n",
    "x.drop(x.columns[selected_columns],axis=1,inplace=True)\n",
    "x.head()"
   ]
  },
  {
   "cell_type": "code",
   "execution_count": 15,
   "metadata": {},
   "outputs": [],
   "source": [
    "# Training the model\n",
    "\n",
    "X_train, X_test, y_train, y_test = train_test_split(x,y,test_size=0.3)\n"
   ]
  },
  {
   "cell_type": "code",
   "execution_count": 16,
   "metadata": {},
   "outputs": [],
   "source": [
    "#from sklearn.preprocessing import StandardScaler\n",
    "#scaler = StandardScaler()\n",
    "#scaler.fit(X_train)\n",
    "#X_train = scaler.transform(X_train)\n",
    "#X_test = scaler.transform(X_test)"
   ]
  },
  {
   "cell_type": "code",
   "execution_count": 59,
   "metadata": {},
   "outputs": [
    {
     "name": "stdout",
     "output_type": "stream",
     "text": [
      "Accuracy obtained: 84.17999999999999\n"
     ]
    }
   ],
   "source": [
    "from sklearn.neighbors import KNeighborsClassifier\n",
    "COVID_Severity = KNeighborsClassifier(n_neighbors=300)\n",
    "COVID_Severity.fit(X_train, y_train)\n",
    "y_predicted = COVID_Severity.predict(X_test)\n",
    "from sklearn.metrics import average_precision_score\n",
    "#average_precision = average_precision_score(y_test, y_predicted)\n",
    "print(\"Accuracy obtained:\", metrics.accuracy_score(y_test, y_predicted)*100)"
   ]
  },
  {
   "cell_type": "code",
   "execution_count": 47,
   "metadata": {},
   "outputs": [],
   "source": [
    "#y_predicted = COVID_Severity.predict(X_test)"
   ]
  },
  {
   "cell_type": "code",
   "execution_count": 48,
   "metadata": {},
   "outputs": [
    {
     "name": "stdout",
     "output_type": "stream",
     "text": [
      "Accuracy obtained: 83.75333333333333\n"
     ]
    }
   ],
   "source": [
    "\n",
    "from sklearn.metrics import average_precision_score\n",
    "#average_precision = average_precision_score(y_test, y_predicted)\n",
    "print(\"Accuracy obtained:\", metrics.accuracy_score(y_test, y_predicted)*100)"
   ]
  },
  {
   "cell_type": "code",
   "execution_count": 49,
   "metadata": {},
   "outputs": [
    {
     "data": {
      "text/plain": [
       "{3}"
      ]
     },
     "execution_count": 49,
     "metadata": {},
     "output_type": "execute_result"
    }
   ],
   "source": [
    "set(y_test) - set(y_predicted)"
   ]
  },
  {
   "cell_type": "code",
   "execution_count": 21,
   "metadata": {},
   "outputs": [
    {
     "name": "stdout",
     "output_type": "stream",
     "text": [
      "              precision    recall  f1-score   support\n",
      "\n",
      "           1       0.86      0.91      0.88     37505\n",
      "           2       0.16      0.16      0.16      4179\n",
      "           3       0.00      0.00      0.00       609\n",
      "           4       0.13      0.07      0.09      2707\n",
      "\n",
      "    accuracy                           0.78     45000\n",
      "   macro avg       0.29      0.28      0.28     45000\n",
      "weighted avg       0.74      0.78      0.76     45000\n",
      "\n",
      "[[34035  2648     0   822]\n",
      " [ 3174   654     0   351]\n",
      " [  490    81     0    38]\n",
      " [ 1937   582     0   188]]\n"
     ]
    },
    {
     "name": "stderr",
     "output_type": "stream",
     "text": [
      "/home/gabe/anaconda3/lib/python3.7/site-packages/sklearn/metrics/_classification.py:1245: UndefinedMetricWarning: Precision and F-score are ill-defined and being set to 0.0 in labels with no predicted samples. Use `zero_division` parameter to control this behavior.\n",
      "  _warn_prf(average, modifier, msg_start, len(result))\n",
      "/home/gabe/anaconda3/lib/python3.7/site-packages/sklearn/metrics/_classification.py:1245: UndefinedMetricWarning: Precision and F-score are ill-defined and being set to 0.0 in labels with no predicted samples. Use `zero_division` parameter to control this behavior.\n",
      "  _warn_prf(average, modifier, msg_start, len(result))\n",
      "/home/gabe/anaconda3/lib/python3.7/site-packages/sklearn/metrics/_classification.py:1245: UndefinedMetricWarning: Precision and F-score are ill-defined and being set to 0.0 in labels with no predicted samples. Use `zero_division` parameter to control this behavior.\n",
      "  _warn_prf(average, modifier, msg_start, len(result))\n"
     ]
    }
   ],
   "source": [
    "from sklearn.metrics import classification_report, confusion_matrix\n",
    "print(classification_report(y_test, y_predicted))\n",
    "print(confusion_matrix(y_test, y_predicted))\n"
   ]
  },
  {
   "cell_type": "code",
   "execution_count": null,
   "metadata": {},
   "outputs": [],
   "source": []
  },
  {
   "cell_type": "code",
   "execution_count": 22,
   "metadata": {},
   "outputs": [
    {
     "data": {
      "image/png": "[encoded data removed]",
      "text/plain": [
       "<Figure size 576x432 with 1 Axes>"
      ]
     },
     "metadata": {},
     "output_type": "display_data"
    },
    {
     "data": {
      "image/png": "[encoded data removed]",
      "text/plain": [
       "<Figure size 576x432 with 1 Axes>"
      ]
     },
     "metadata": {},
     "output_type": "display_data"
    }
   ],
   "source": [
    "import numpy as np\n",
    "import matplotlib.pyplot as plt\n",
    "import seaborn as sns\n",
    "from matplotlib.colors import ListedColormap\n",
    "from sklearn import neighbors, datasets\n",
    "\n",
    "n_neighbors = 3\n",
    "\n",
    "\n",
    "# we only take the first two features. We could avoid this ugly\n",
    "# slicing by using a two-dim dataset\n",
    "X = x[['sex', 'age_group']] \n",
    "#y = data[\"severity_type\"]\n",
    "\n",
    "h = .02  # step size in the mesh\n",
    "\n",
    "# Create color maps\n",
    "cmap_light = ListedColormap(['orange', 'cyan', 'cornflowerblue'])\n",
    "cmap_bold = ['darkorange', 'c', 'darkblue']\n",
    "\n",
    "for weights in ['uniform', 'distance']:\n",
    "    # we create an instance of Neighbours Classifier and fit the data.\n",
    "    clf = neighbors.KNeighborsClassifier(n_neighbors, weights=weights)\n",
    "    clf.fit(X, y)\n",
    "\n",
    "    # Plot the decision boundary. For that, we will assign a color to each\n",
    "    # point in the mesh [x_min, x_max]x[y_min, y_max].\n",
    "    x_min, x_max = X.iloc[:, 0].min() - 1, X.iloc[:, 0].max() + 1\n",
    "    y_min, y_max = X.iloc[:, 1].min() - 1, X.iloc[:, 1].max() + 1\n",
    "    xx, yy = np.meshgrid(np.arange(x_min, x_max, h),\n",
    "                         np.arange(y_min, y_max, h))\n",
    "    Z = clf.predict(np.c_[xx.ravel(), yy.ravel()])\n",
    "\n",
    "    # Put the result into a color plot\n",
    "    Z = Z.reshape(xx.shape)\n",
    "    plt.figure(figsize=(8, 6))\n",
    "    plt.contourf(xx, yy, Z, cmap=cmap_light)\n",
    "\n",
    "    # Plot also the training points\n",
    "    sns.scatterplot(x=X.iloc[:, 0], y=X.iloc[:, 1],\n",
    "                    palette=cmap_bold, alpha=1.0, edgecolor=\"black\")\n",
    "    plt.xlim(xx.min(), xx.max())\n",
    "    plt.ylim(yy.min(), yy.max())\n",
    "    plt.title(\"4-Class classification (k = %i, weights = '%s')\"\n",
    "              % (n_neighbors, weights))\n"
   ]
  },
  {
   "cell_type": "code",
   "execution_count": null,
   "metadata": {},
   "outputs": [],
   "source": []
  }
 ],
 "metadata": {
  "kernelspec": {
   "display_name": "Python 3",
   "language": "python",
   "name": "python3"
  },
  "language_info": {
   "codemirror_mode": {
    "name": "ipython",
    "version": 3
   },
   "file_extension": ".py",
   "mimetype": "text/x-python",
   "name": "python",
   "nbconvert_exporter": "python",
   "pygments_lexer": "ipython3",
   "version": "3.8.5"
  }
 },
 "nbformat": 4,
 "nbformat_minor": 4
}
