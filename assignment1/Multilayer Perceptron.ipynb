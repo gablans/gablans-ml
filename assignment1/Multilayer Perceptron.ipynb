{
 "cells": [
  {
   "cell_type": "code",
   "execution_count": 1,
   "metadata": {},
   "outputs": [],
   "source": [
    "### Libraries required"
   ]
  },
  {
   "cell_type": "code",
   "execution_count": 2,
   "metadata": {},
   "outputs": [],
   "source": [
    "import pandas as pd\n",
    "from sklearn.metrics import accuracy_score, confusion_matrix\n",
    "from sklearn.model_selection import train_test_split\n",
    "\n",
    "from sklearn.metrics import mean_squared_error,r2_score,mean_absolute_error\n",
    "from sklearn.metrics import explained_variance_score\n",
    "from sklearn.linear_model import SGDRegressor\n",
    "\n",
    "import numpy as np\n",
    "import matplotlib.pyplot as plt\n",
    "from matplotlib import style\n",
    "style.use(\"fivethirtyeight\")\n",
    "#import seaborn as sns"
   ]
  },
  {
   "cell_type": "code",
   "execution_count": 3,
   "metadata": {},
   "outputs": [],
   "source": [
    "#Setting working directory\n",
    "import os\n",
    "os.chdir(\"/home/gabe/gatech/ml\")"
   ]
  },
  {
   "cell_type": "code",
   "execution_count": 4,
   "metadata": {},
   "outputs": [
    {
     "name": "stderr",
     "output_type": "stream",
     "text": [
      "/home/gabe/anaconda3/lib/python3.7/site-packages/IPython/core/interactiveshell.py:3063: DtypeWarning: Columns (86,88,89,90,91) have mixed types.Specify dtype option on import or set low_memory=False.\n",
      "  interactivity=interactivity, compiler=compiler, result=result)\n"
     ]
    },
    {
     "data": {
      "text/plain": [
       "(708250, 93)"
      ]
     },
     "execution_count": 4,
     "metadata": {},
     "output_type": "execute_result"
    }
   ],
   "source": [
    "#Reading Data\n",
    "data = pd.read_csv('covid_cdmx_sintomas.csv')\n",
    "data.shape"
   ]
  },
  {
   "cell_type": "code",
   "execution_count": 5,
   "metadata": {},
   "outputs": [
    {
     "data": {
      "text/plain": [
       "(708250, 47)"
      ]
     },
     "execution_count": 5,
     "metadata": {},
     "output_type": "execute_result"
    }
   ],
   "source": [
    "#How many columns and rows\n",
    "\n",
    "data = data.drop(['_id','id','fechreg','origen','sector','cveentuni','entidad','delega','unidad','entresi','cventine','mpioresi','cvemuni','locresi','cvelocal','tipacien','evoluci','fecdef','semdef','intubado','digcline','hableind','ocupacio','seringre','fecingre','fecinisi','diagprob','fecvaest','tommue','labora','esmigra','paisnal','paisori','fingmex','puerperio','diaspuerp','uci','linaje','viaje1','viaje2','viaje3','viaje4','viaje5','fecinitxantivi','follabor','rango_de_edad'], axis = 1) \n",
    "\n",
    "data.shape"
   ]
  },
  {
   "cell_type": "code",
   "execution_count": 6,
   "metadata": {},
   "outputs": [],
   "source": [
    "data[\"estaemba\"].fillna(\"NO\", inplace = True)\n",
    "data[\"mesesemb\"].fillna(0, inplace = True)\n",
    "data[\"esindige\"].fillna(\"NO\", inplace = True)\n",
    "data[\"antivira\"].fillna(\"No especifica\", inplace = True)\n",
    "data[\"conocaso\"].fillna(\"NO\", inplace = True)\n",
    "data[\"conanima\"].fillna(\"NO ESPECIFICA\", inplace = True)\n",
    "data[\"vacunado\"].fillna(\"SE IGNORA\", inplace = True)\n",
    "data[\"concerdo\"].fillna(\"NO\", inplace = True)\n",
    "\n",
    "###\n",
    "\n",
    "data[\"rectrata\"].fillna(\"SE IGNORA\", inplace = True)\n",
    "data[\"txcrobia\"].fillna(\"SE IGNORA\", inplace = True)\n",
    "data[\"txantivi\"].fillna(\"SE IGNORA\", inplace = True)\n",
    "data[\"contaves\"].fillna(\"SE IGNORA\", inplace = True)\n",
    "data[\"antipireticos\"].fillna(\"SE IGNORA\", inplace = True)\n"
   ]
  },
  {
   "cell_type": "code",
   "execution_count": 7,
   "metadata": {},
   "outputs": [
    {
     "name": "stdout",
     "output_type": "stream",
     "text": [
      "<class 'pandas.core.frame.DataFrame'>\n",
      "RangeIndex: 708250 entries, 0 to 708249\n",
      "Data columns (total 19 columns):\n",
      " #   Column         Non-Null Count   Dtype \n",
      "---  ------         --------------   ----- \n",
      " 0   sexo           708250 non-null  object\n",
      " 1   edad           708250 non-null  int64 \n",
      " 2   fiebre         708250 non-null  object\n",
      " 3   tos            708250 non-null  object\n",
      " 4   odinogia       708250 non-null  object\n",
      " 5   disnea         708250 non-null  object\n",
      " 6   irritabi       708250 non-null  object\n",
      " 7   diarrea        708250 non-null  object\n",
      " 8   dotoraci       708250 non-null  object\n",
      " 9   calofrios      708250 non-null  object\n",
      " 10  cefalea        708250 non-null  object\n",
      " 11  mialgias       708250 non-null  object\n",
      " 12  artral         708250 non-null  object\n",
      " 13  ataedoge       708250 non-null  object\n",
      " 14  rinorrea       708250 non-null  object\n",
      " 15  polipnea       708250 non-null  object\n",
      " 16  vomito         708250 non-null  object\n",
      " 17  resdefin       681980 non-null  object\n",
      " 18  antipireticos  708250 non-null  object\n",
      "dtypes: int64(1), object(18)\n",
      "memory usage: 102.7+ MB\n"
     ]
    }
   ],
   "source": [
    "\n",
    "cols = [2,3,4,5,21,22,23,24,25,26,27,28,29,30,31,32,33,34,35,36,37,38,39,40,41,42,43,44]\n",
    "\n",
    "data.drop(data.columns[cols],axis=1,inplace=True)\n",
    "data.info()"
   ]
  },
  {
   "cell_type": "code",
   "execution_count": 8,
   "metadata": {},
   "outputs": [],
   "source": [
    "# Avoid droping and use columns where final result is not NA:\n",
    "\n",
    "data = data[data['resdefin'].notna()]"
   ]
  },
  {
   "cell_type": "code",
   "execution_count": 9,
   "metadata": {},
   "outputs": [
    {
     "data": {
      "text/plain": [
       "(681980, 19)"
      ]
     },
     "execution_count": 9,
     "metadata": {},
     "output_type": "execute_result"
    }
   ],
   "source": [
    "data.shape"
   ]
  },
  {
   "cell_type": "code",
   "execution_count": 10,
   "metadata": {},
   "outputs": [
    {
     "data": {
      "text/html": [
       "<div>\n",
       "<style scoped>\n",
       "    .dataframe tbody tr th:only-of-type {\n",
       "        vertical-align: middle;\n",
       "    }\n",
       "\n",
       "    .dataframe tbody tr th {\n",
       "        vertical-align: top;\n",
       "    }\n",
       "\n",
       "    .dataframe thead th {\n",
       "        text-align: right;\n",
       "    }\n",
       "</style>\n",
       "<table border=\"1\" class=\"dataframe\">\n",
       "  <thead>\n",
       "    <tr style=\"text-align: right;\">\n",
       "      <th></th>\n",
       "      <th>sexo</th>\n",
       "      <th>edad</th>\n",
       "      <th>fiebre</th>\n",
       "      <th>tos</th>\n",
       "      <th>odinogia</th>\n",
       "      <th>disnea</th>\n",
       "      <th>irritabi</th>\n",
       "      <th>diarrea</th>\n",
       "      <th>dotoraci</th>\n",
       "      <th>calofrios</th>\n",
       "      <th>cefalea</th>\n",
       "      <th>mialgias</th>\n",
       "      <th>artral</th>\n",
       "      <th>ataedoge</th>\n",
       "      <th>rinorrea</th>\n",
       "      <th>polipnea</th>\n",
       "      <th>vomito</th>\n",
       "      <th>resdefin</th>\n",
       "      <th>antipireticos</th>\n",
       "    </tr>\n",
       "  </thead>\n",
       "  <tbody>\n",
       "    <tr>\n",
       "      <th>0</th>\n",
       "      <td>MASCULINO</td>\n",
       "      <td>62</td>\n",
       "      <td>SI</td>\n",
       "      <td>SI</td>\n",
       "      <td>NO</td>\n",
       "      <td>SI</td>\n",
       "      <td>NO</td>\n",
       "      <td>NO</td>\n",
       "      <td>SI</td>\n",
       "      <td>SI</td>\n",
       "      <td>SI</td>\n",
       "      <td>SI</td>\n",
       "      <td>NO</td>\n",
       "      <td>SI</td>\n",
       "      <td>SI</td>\n",
       "      <td>NO</td>\n",
       "      <td>NO</td>\n",
       "      <td>NEGATIVO</td>\n",
       "      <td>NO</td>\n",
       "    </tr>\n",
       "    <tr>\n",
       "      <th>1</th>\n",
       "      <td>MASCULINO</td>\n",
       "      <td>44</td>\n",
       "      <td>NO</td>\n",
       "      <td>NO</td>\n",
       "      <td>NO</td>\n",
       "      <td>NO</td>\n",
       "      <td>NO</td>\n",
       "      <td>NO</td>\n",
       "      <td>NO</td>\n",
       "      <td>NO</td>\n",
       "      <td>NO</td>\n",
       "      <td>SI</td>\n",
       "      <td>NO</td>\n",
       "      <td>NO</td>\n",
       "      <td>NO</td>\n",
       "      <td>NO</td>\n",
       "      <td>NO</td>\n",
       "      <td>NEGATIVO</td>\n",
       "      <td>NO</td>\n",
       "    </tr>\n",
       "    <tr>\n",
       "      <th>2</th>\n",
       "      <td>MASCULINO</td>\n",
       "      <td>10</td>\n",
       "      <td>NO</td>\n",
       "      <td>NO</td>\n",
       "      <td>NO</td>\n",
       "      <td>NO</td>\n",
       "      <td>NO</td>\n",
       "      <td>NO</td>\n",
       "      <td>NO</td>\n",
       "      <td>NO</td>\n",
       "      <td>NO</td>\n",
       "      <td>NO</td>\n",
       "      <td>NO</td>\n",
       "      <td>NO</td>\n",
       "      <td>SI</td>\n",
       "      <td>NO</td>\n",
       "      <td>NO</td>\n",
       "      <td>NEGATIVO</td>\n",
       "      <td>NO</td>\n",
       "    </tr>\n",
       "    <tr>\n",
       "      <th>3</th>\n",
       "      <td>MASCULINO</td>\n",
       "      <td>14</td>\n",
       "      <td>NO</td>\n",
       "      <td>NO</td>\n",
       "      <td>NO</td>\n",
       "      <td>NO</td>\n",
       "      <td>NO</td>\n",
       "      <td>NO</td>\n",
       "      <td>NO</td>\n",
       "      <td>NO</td>\n",
       "      <td>NO</td>\n",
       "      <td>NO</td>\n",
       "      <td>NO</td>\n",
       "      <td>NO</td>\n",
       "      <td>NO</td>\n",
       "      <td>NO</td>\n",
       "      <td>NO</td>\n",
       "      <td>NEGATIVO</td>\n",
       "      <td>NO</td>\n",
       "    </tr>\n",
       "    <tr>\n",
       "      <th>4</th>\n",
       "      <td>FEMENINO</td>\n",
       "      <td>39</td>\n",
       "      <td>NO</td>\n",
       "      <td>SI</td>\n",
       "      <td>NO</td>\n",
       "      <td>SI</td>\n",
       "      <td>NO</td>\n",
       "      <td>SI</td>\n",
       "      <td>NO</td>\n",
       "      <td>NO</td>\n",
       "      <td>SI</td>\n",
       "      <td>NO</td>\n",
       "      <td>NO</td>\n",
       "      <td>NO</td>\n",
       "      <td>NO</td>\n",
       "      <td>NO</td>\n",
       "      <td>NO</td>\n",
       "      <td>SARS-CoV-2</td>\n",
       "      <td>NO</td>\n",
       "    </tr>\n",
       "  </tbody>\n",
       "</table>\n",
       "</div>"
      ],
      "text/plain": [
       "        sexo  edad fiebre tos odinogia disnea irritabi diarrea dotoraci  \\\n",
       "0  MASCULINO    62     SI  SI       NO     SI       NO      NO       SI   \n",
       "1  MASCULINO    44     NO  NO       NO     NO       NO      NO       NO   \n",
       "2  MASCULINO    10     NO  NO       NO     NO       NO      NO       NO   \n",
       "3  MASCULINO    14     NO  NO       NO     NO       NO      NO       NO   \n",
       "4   FEMENINO    39     NO  SI       NO     SI       NO      SI       NO   \n",
       "\n",
       "  calofrios cefalea mialgias artral ataedoge rinorrea polipnea vomito  \\\n",
       "0        SI      SI       SI     NO       SI       SI       NO     NO   \n",
       "1        NO      NO       SI     NO       NO       NO       NO     NO   \n",
       "2        NO      NO       NO     NO       NO       SI       NO     NO   \n",
       "3        NO      NO       NO     NO       NO       NO       NO     NO   \n",
       "4        NO      SI       NO     NO       NO       NO       NO     NO   \n",
       "\n",
       "     resdefin antipireticos  \n",
       "0    NEGATIVO            NO  \n",
       "1    NEGATIVO            NO  \n",
       "2    NEGATIVO            NO  \n",
       "3    NEGATIVO            NO  \n",
       "4  SARS-CoV-2            NO  "
      ]
     },
     "execution_count": 10,
     "metadata": {},
     "output_type": "execute_result"
    }
   ],
   "source": [
    "data.head()"
   ]
  },
  {
   "cell_type": "code",
   "execution_count": 11,
   "metadata": {},
   "outputs": [],
   "source": [
    "data['resdefin'] = data['resdefin'].apply(lambda x: 1 if x =='SARS-CoV-2' else -1)\n",
    "data = data.replace(['SI'],1)\n",
    "data = data.replace(['NO'],-1)\n",
    "data = data.replace(['MASCULINO'],-1)\n",
    "data = data.replace(['FEMENINO'],1)\n"
   ]
  },
  {
   "cell_type": "code",
   "execution_count": 12,
   "metadata": {},
   "outputs": [
    {
     "data": {
      "text/html": [
       "<div>\n",
       "<style scoped>\n",
       "    .dataframe tbody tr th:only-of-type {\n",
       "        vertical-align: middle;\n",
       "    }\n",
       "\n",
       "    .dataframe tbody tr th {\n",
       "        vertical-align: top;\n",
       "    }\n",
       "\n",
       "    .dataframe thead th {\n",
       "        text-align: right;\n",
       "    }\n",
       "</style>\n",
       "<table border=\"1\" class=\"dataframe\">\n",
       "  <thead>\n",
       "    <tr style=\"text-align: right;\">\n",
       "      <th></th>\n",
       "      <th>sexo</th>\n",
       "      <th>edad</th>\n",
       "      <th>fiebre</th>\n",
       "      <th>tos</th>\n",
       "      <th>odinogia</th>\n",
       "      <th>disnea</th>\n",
       "      <th>irritabi</th>\n",
       "      <th>diarrea</th>\n",
       "      <th>dotoraci</th>\n",
       "      <th>calofrios</th>\n",
       "      <th>cefalea</th>\n",
       "      <th>mialgias</th>\n",
       "      <th>artral</th>\n",
       "      <th>ataedoge</th>\n",
       "      <th>rinorrea</th>\n",
       "      <th>polipnea</th>\n",
       "      <th>vomito</th>\n",
       "      <th>resdefin</th>\n",
       "      <th>antipireticos</th>\n",
       "    </tr>\n",
       "  </thead>\n",
       "  <tbody>\n",
       "    <tr>\n",
       "      <th>708245</th>\n",
       "      <td>1</td>\n",
       "      <td>50</td>\n",
       "      <td>-1</td>\n",
       "      <td>-1</td>\n",
       "      <td>-1</td>\n",
       "      <td>-1</td>\n",
       "      <td>-1</td>\n",
       "      <td>-1</td>\n",
       "      <td>-1</td>\n",
       "      <td>-1</td>\n",
       "      <td>-1</td>\n",
       "      <td>-1</td>\n",
       "      <td>-1</td>\n",
       "      <td>-1</td>\n",
       "      <td>-1</td>\n",
       "      <td>-1</td>\n",
       "      <td>-1</td>\n",
       "      <td>-1</td>\n",
       "      <td>-1</td>\n",
       "    </tr>\n",
       "    <tr>\n",
       "      <th>708246</th>\n",
       "      <td>1</td>\n",
       "      <td>54</td>\n",
       "      <td>-1</td>\n",
       "      <td>-1</td>\n",
       "      <td>-1</td>\n",
       "      <td>1</td>\n",
       "      <td>-1</td>\n",
       "      <td>-1</td>\n",
       "      <td>-1</td>\n",
       "      <td>-1</td>\n",
       "      <td>1</td>\n",
       "      <td>1</td>\n",
       "      <td>-1</td>\n",
       "      <td>-1</td>\n",
       "      <td>-1</td>\n",
       "      <td>-1</td>\n",
       "      <td>-1</td>\n",
       "      <td>-1</td>\n",
       "      <td>1</td>\n",
       "    </tr>\n",
       "    <tr>\n",
       "      <th>708247</th>\n",
       "      <td>-1</td>\n",
       "      <td>47</td>\n",
       "      <td>-1</td>\n",
       "      <td>-1</td>\n",
       "      <td>-1</td>\n",
       "      <td>1</td>\n",
       "      <td>-1</td>\n",
       "      <td>-1</td>\n",
       "      <td>-1</td>\n",
       "      <td>-1</td>\n",
       "      <td>1</td>\n",
       "      <td>-1</td>\n",
       "      <td>-1</td>\n",
       "      <td>-1</td>\n",
       "      <td>-1</td>\n",
       "      <td>-1</td>\n",
       "      <td>-1</td>\n",
       "      <td>-1</td>\n",
       "      <td>-1</td>\n",
       "    </tr>\n",
       "    <tr>\n",
       "      <th>708248</th>\n",
       "      <td>1</td>\n",
       "      <td>26</td>\n",
       "      <td>-1</td>\n",
       "      <td>-1</td>\n",
       "      <td>1</td>\n",
       "      <td>-1</td>\n",
       "      <td>-1</td>\n",
       "      <td>-1</td>\n",
       "      <td>-1</td>\n",
       "      <td>-1</td>\n",
       "      <td>1</td>\n",
       "      <td>-1</td>\n",
       "      <td>-1</td>\n",
       "      <td>-1</td>\n",
       "      <td>-1</td>\n",
       "      <td>-1</td>\n",
       "      <td>-1</td>\n",
       "      <td>-1</td>\n",
       "      <td>-1</td>\n",
       "    </tr>\n",
       "    <tr>\n",
       "      <th>708249</th>\n",
       "      <td>-1</td>\n",
       "      <td>46</td>\n",
       "      <td>-1</td>\n",
       "      <td>-1</td>\n",
       "      <td>-1</td>\n",
       "      <td>-1</td>\n",
       "      <td>-1</td>\n",
       "      <td>-1</td>\n",
       "      <td>-1</td>\n",
       "      <td>-1</td>\n",
       "      <td>1</td>\n",
       "      <td>1</td>\n",
       "      <td>-1</td>\n",
       "      <td>-1</td>\n",
       "      <td>1</td>\n",
       "      <td>-1</td>\n",
       "      <td>-1</td>\n",
       "      <td>-1</td>\n",
       "      <td>-1</td>\n",
       "    </tr>\n",
       "  </tbody>\n",
       "</table>\n",
       "</div>"
      ],
      "text/plain": [
       "        sexo  edad fiebre tos odinogia disnea irritabi diarrea dotoraci  \\\n",
       "708245     1    50     -1  -1       -1     -1       -1      -1       -1   \n",
       "708246     1    54     -1  -1       -1      1       -1      -1       -1   \n",
       "708247    -1    47     -1  -1       -1      1       -1      -1       -1   \n",
       "708248     1    26     -1  -1        1     -1       -1      -1       -1   \n",
       "708249    -1    46     -1  -1       -1     -1       -1      -1       -1   \n",
       "\n",
       "       calofrios cefalea mialgias artral ataedoge rinorrea polipnea vomito  \\\n",
       "708245        -1      -1       -1     -1       -1       -1       -1     -1   \n",
       "708246        -1       1        1     -1       -1       -1       -1     -1   \n",
       "708247        -1       1       -1     -1       -1       -1       -1     -1   \n",
       "708248        -1       1       -1     -1       -1       -1       -1     -1   \n",
       "708249        -1       1        1     -1       -1        1       -1     -1   \n",
       "\n",
       "        resdefin antipireticos  \n",
       "708245        -1            -1  \n",
       "708246        -1             1  \n",
       "708247        -1            -1  \n",
       "708248        -1            -1  \n",
       "708249        -1            -1  "
      ]
     },
     "execution_count": 12,
     "metadata": {},
     "output_type": "execute_result"
    }
   ],
   "source": [
    "data.tail()"
   ]
  },
  {
   "cell_type": "code",
   "execution_count": 13,
   "metadata": {},
   "outputs": [
    {
     "data": {
      "text/html": [
       "<div>\n",
       "<style scoped>\n",
       "    .dataframe tbody tr th:only-of-type {\n",
       "        vertical-align: middle;\n",
       "    }\n",
       "\n",
       "    .dataframe tbody tr th {\n",
       "        vertical-align: top;\n",
       "    }\n",
       "\n",
       "    .dataframe thead th {\n",
       "        text-align: right;\n",
       "    }\n",
       "</style>\n",
       "<table border=\"1\" class=\"dataframe\">\n",
       "  <thead>\n",
       "    <tr style=\"text-align: right;\">\n",
       "      <th></th>\n",
       "      <th>sexo</th>\n",
       "      <th>edad</th>\n",
       "      <th>fiebre</th>\n",
       "      <th>tos</th>\n",
       "      <th>odinogia</th>\n",
       "      <th>disnea</th>\n",
       "      <th>irritabi</th>\n",
       "      <th>diarrea</th>\n",
       "      <th>dotoraci</th>\n",
       "      <th>calofrios</th>\n",
       "      <th>cefalea</th>\n",
       "      <th>mialgias</th>\n",
       "      <th>artral</th>\n",
       "      <th>ataedoge</th>\n",
       "      <th>rinorrea</th>\n",
       "      <th>polipnea</th>\n",
       "      <th>vomito</th>\n",
       "      <th>resdefin</th>\n",
       "      <th>antipireticos</th>\n",
       "    </tr>\n",
       "  </thead>\n",
       "  <tbody>\n",
       "    <tr>\n",
       "      <th>708245</th>\n",
       "      <td>1</td>\n",
       "      <td>0.581209</td>\n",
       "      <td>-1</td>\n",
       "      <td>-1</td>\n",
       "      <td>-1</td>\n",
       "      <td>-1</td>\n",
       "      <td>-1</td>\n",
       "      <td>-1</td>\n",
       "      <td>-1</td>\n",
       "      <td>-1</td>\n",
       "      <td>-1</td>\n",
       "      <td>-1</td>\n",
       "      <td>-1</td>\n",
       "      <td>-1</td>\n",
       "      <td>-1</td>\n",
       "      <td>-1</td>\n",
       "      <td>-1</td>\n",
       "      <td>-1</td>\n",
       "      <td>-1</td>\n",
       "    </tr>\n",
       "    <tr>\n",
       "      <th>708246</th>\n",
       "      <td>1</td>\n",
       "      <td>0.822389</td>\n",
       "      <td>-1</td>\n",
       "      <td>-1</td>\n",
       "      <td>-1</td>\n",
       "      <td>1</td>\n",
       "      <td>-1</td>\n",
       "      <td>-1</td>\n",
       "      <td>-1</td>\n",
       "      <td>-1</td>\n",
       "      <td>1</td>\n",
       "      <td>1</td>\n",
       "      <td>-1</td>\n",
       "      <td>-1</td>\n",
       "      <td>-1</td>\n",
       "      <td>-1</td>\n",
       "      <td>-1</td>\n",
       "      <td>-1</td>\n",
       "      <td>1</td>\n",
       "    </tr>\n",
       "    <tr>\n",
       "      <th>708247</th>\n",
       "      <td>-1</td>\n",
       "      <td>0.400323</td>\n",
       "      <td>-1</td>\n",
       "      <td>-1</td>\n",
       "      <td>-1</td>\n",
       "      <td>1</td>\n",
       "      <td>-1</td>\n",
       "      <td>-1</td>\n",
       "      <td>-1</td>\n",
       "      <td>-1</td>\n",
       "      <td>1</td>\n",
       "      <td>-1</td>\n",
       "      <td>-1</td>\n",
       "      <td>-1</td>\n",
       "      <td>-1</td>\n",
       "      <td>-1</td>\n",
       "      <td>-1</td>\n",
       "      <td>-1</td>\n",
       "      <td>-1</td>\n",
       "    </tr>\n",
       "    <tr>\n",
       "      <th>708248</th>\n",
       "      <td>1</td>\n",
       "      <td>-0.865875</td>\n",
       "      <td>-1</td>\n",
       "      <td>-1</td>\n",
       "      <td>1</td>\n",
       "      <td>-1</td>\n",
       "      <td>-1</td>\n",
       "      <td>-1</td>\n",
       "      <td>-1</td>\n",
       "      <td>-1</td>\n",
       "      <td>1</td>\n",
       "      <td>-1</td>\n",
       "      <td>-1</td>\n",
       "      <td>-1</td>\n",
       "      <td>-1</td>\n",
       "      <td>-1</td>\n",
       "      <td>-1</td>\n",
       "      <td>-1</td>\n",
       "      <td>-1</td>\n",
       "    </tr>\n",
       "    <tr>\n",
       "      <th>708249</th>\n",
       "      <td>-1</td>\n",
       "      <td>0.340028</td>\n",
       "      <td>-1</td>\n",
       "      <td>-1</td>\n",
       "      <td>-1</td>\n",
       "      <td>-1</td>\n",
       "      <td>-1</td>\n",
       "      <td>-1</td>\n",
       "      <td>-1</td>\n",
       "      <td>-1</td>\n",
       "      <td>1</td>\n",
       "      <td>1</td>\n",
       "      <td>-1</td>\n",
       "      <td>-1</td>\n",
       "      <td>1</td>\n",
       "      <td>-1</td>\n",
       "      <td>-1</td>\n",
       "      <td>-1</td>\n",
       "      <td>-1</td>\n",
       "    </tr>\n",
       "  </tbody>\n",
       "</table>\n",
       "</div>"
      ],
      "text/plain": [
       "        sexo      edad fiebre tos odinogia disnea irritabi diarrea dotoraci  \\\n",
       "708245     1  0.581209     -1  -1       -1     -1       -1      -1       -1   \n",
       "708246     1  0.822389     -1  -1       -1      1       -1      -1       -1   \n",
       "708247    -1  0.400323     -1  -1       -1      1       -1      -1       -1   \n",
       "708248     1 -0.865875     -1  -1        1     -1       -1      -1       -1   \n",
       "708249    -1  0.340028     -1  -1       -1     -1       -1      -1       -1   \n",
       "\n",
       "       calofrios cefalea mialgias artral ataedoge rinorrea polipnea vomito  \\\n",
       "708245        -1      -1       -1     -1       -1       -1       -1     -1   \n",
       "708246        -1       1        1     -1       -1       -1       -1     -1   \n",
       "708247        -1       1       -1     -1       -1       -1       -1     -1   \n",
       "708248        -1       1       -1     -1       -1       -1       -1     -1   \n",
       "708249        -1       1        1     -1       -1        1       -1     -1   \n",
       "\n",
       "        resdefin antipireticos  \n",
       "708245        -1            -1  \n",
       "708246        -1             1  \n",
       "708247        -1            -1  \n",
       "708248        -1            -1  \n",
       "708249        -1            -1  "
      ]
     },
     "execution_count": 13,
     "metadata": {},
     "output_type": "execute_result"
    }
   ],
   "source": [
    "from scipy.stats import zscore\n",
    "data['edad']= zscore(data['edad'])\n",
    "data.tail()"
   ]
  },
  {
   "cell_type": "code",
   "execution_count": 14,
   "metadata": {},
   "outputs": [],
   "source": [
    "data = data.replace(['SE IGNORA'],0)\n"
   ]
  },
  {
   "cell_type": "code",
   "execution_count": 15,
   "metadata": {},
   "outputs": [
    {
     "name": "stdout",
     "output_type": "stream",
     "text": [
      "<class 'pandas.core.frame.DataFrame'>\n",
      "Int64Index: 681980 entries, 0 to 708249\n",
      "Data columns (total 19 columns):\n",
      " #   Column         Non-Null Count   Dtype  \n",
      "---  ------         --------------   -----  \n",
      " 0   sexo           681980 non-null  int64  \n",
      " 1   edad           681980 non-null  float64\n",
      " 2   fiebre         681980 non-null  int64  \n",
      " 3   tos            681980 non-null  int64  \n",
      " 4   odinogia       681980 non-null  int64  \n",
      " 5   disnea         681980 non-null  int64  \n",
      " 6   irritabi       681980 non-null  int64  \n",
      " 7   diarrea        681980 non-null  int64  \n",
      " 8   dotoraci       681980 non-null  int64  \n",
      " 9   calofrios      681980 non-null  int64  \n",
      " 10  cefalea        681980 non-null  int64  \n",
      " 11  mialgias       681980 non-null  int64  \n",
      " 12  artral         681980 non-null  int64  \n",
      " 13  ataedoge       681980 non-null  int64  \n",
      " 14  rinorrea       681980 non-null  int64  \n",
      " 15  polipnea       681980 non-null  int64  \n",
      " 16  vomito         681980 non-null  int64  \n",
      " 17  resdefin       681980 non-null  int64  \n",
      " 18  antipireticos  681980 non-null  int64  \n",
      "dtypes: float64(1), int64(18)\n",
      "memory usage: 104.1 MB\n"
     ]
    }
   ],
   "source": [
    "#selected_columns = clean_df[[\"sexo\",\"edad\"]]\n",
    "#test_df = selected_columns.copy()\n",
    "#test_df.head()\n",
    "\n",
    "data.info()"
   ]
  },
  {
   "cell_type": "code",
   "execution_count": 16,
   "metadata": {},
   "outputs": [
    {
     "data": {
      "text/html": [
       "<div>\n",
       "<style scoped>\n",
       "    .dataframe tbody tr th:only-of-type {\n",
       "        vertical-align: middle;\n",
       "    }\n",
       "\n",
       "    .dataframe tbody tr th {\n",
       "        vertical-align: top;\n",
       "    }\n",
       "\n",
       "    .dataframe thead th {\n",
       "        text-align: right;\n",
       "    }\n",
       "</style>\n",
       "<table border=\"1\" class=\"dataframe\">\n",
       "  <thead>\n",
       "    <tr style=\"text-align: right;\">\n",
       "      <th></th>\n",
       "      <th>resdefin</th>\n",
       "    </tr>\n",
       "  </thead>\n",
       "  <tbody>\n",
       "    <tr>\n",
       "      <th>0</th>\n",
       "      <td>-1</td>\n",
       "    </tr>\n",
       "    <tr>\n",
       "      <th>1</th>\n",
       "      <td>-1</td>\n",
       "    </tr>\n",
       "    <tr>\n",
       "      <th>2</th>\n",
       "      <td>-1</td>\n",
       "    </tr>\n",
       "    <tr>\n",
       "      <th>3</th>\n",
       "      <td>-1</td>\n",
       "    </tr>\n",
       "    <tr>\n",
       "      <th>4</th>\n",
       "      <td>1</td>\n",
       "    </tr>\n",
       "  </tbody>\n",
       "</table>\n",
       "</div>"
      ],
      "text/plain": [
       "   resdefin\n",
       "0        -1\n",
       "1        -1\n",
       "2        -1\n",
       "3        -1\n",
       "4         1"
      ]
     },
     "execution_count": 16,
     "metadata": {},
     "output_type": "execute_result"
    }
   ],
   "source": [
    "y = data[['resdefin']].copy()\n",
    "y.head()"
   ]
  },
  {
   "cell_type": "code",
   "execution_count": 17,
   "metadata": {},
   "outputs": [],
   "source": [
    "x=data.copy()\n",
    "x= x.drop(['resdefin'],axis=1)"
   ]
  },
  {
   "cell_type": "code",
   "execution_count": 18,
   "metadata": {},
   "outputs": [
    {
     "data": {
      "text/plain": [
       "Index(['sexo', 'edad', 'fiebre', 'tos', 'odinogia', 'disnea', 'irritabi',\n",
       "       'diarrea', 'dotoraci', 'calofrios', 'cefalea', 'mialgias', 'artral',\n",
       "       'ataedoge', 'rinorrea', 'polipnea', 'vomito', 'antipireticos'],\n",
       "      dtype='object')"
      ]
     },
     "execution_count": 18,
     "metadata": {},
     "output_type": "execute_result"
    }
   ],
   "source": [
    "x.columns"
   ]
  },
  {
   "cell_type": "code",
   "execution_count": 19,
   "metadata": {},
   "outputs": [
    {
     "name": "stdout",
     "output_type": "stream",
     "text": [
      "<class 'pandas.core.frame.DataFrame'>\n",
      "Int64Index: 681980 entries, 0 to 708249\n",
      "Data columns (total 18 columns):\n",
      " #   Column         Non-Null Count   Dtype  \n",
      "---  ------         --------------   -----  \n",
      " 0   sexo           681980 non-null  int64  \n",
      " 1   edad           681980 non-null  float64\n",
      " 2   fiebre         681980 non-null  int64  \n",
      " 3   tos            681980 non-null  int64  \n",
      " 4   odinogia       681980 non-null  int64  \n",
      " 5   disnea         681980 non-null  int64  \n",
      " 6   irritabi       681980 non-null  int64  \n",
      " 7   diarrea        681980 non-null  int64  \n",
      " 8   dotoraci       681980 non-null  int64  \n",
      " 9   calofrios      681980 non-null  int64  \n",
      " 10  cefalea        681980 non-null  int64  \n",
      " 11  mialgias       681980 non-null  int64  \n",
      " 12  artral         681980 non-null  int64  \n",
      " 13  ataedoge       681980 non-null  int64  \n",
      " 14  rinorrea       681980 non-null  int64  \n",
      " 15  polipnea       681980 non-null  int64  \n",
      " 16  vomito         681980 non-null  int64  \n",
      " 17  antipireticos  681980 non-null  int64  \n",
      "dtypes: float64(1), int64(17)\n",
      "memory usage: 98.9 MB\n"
     ]
    }
   ],
   "source": [
    "x.info()"
   ]
  },
  {
   "cell_type": "code",
   "execution_count": 20,
   "metadata": {},
   "outputs": [],
   "source": [
    "# Training the model\n",
    "\n",
    "X_train, X_test, y_train, y_test = train_test_split(x,y,test_size=0.33,random_state=19)\n"
   ]
  },
  {
   "cell_type": "code",
   "execution_count": 21,
   "metadata": {},
   "outputs": [],
   "source": [
    "from sklearn.preprocessing import StandardScaler\n",
    "scaler = StandardScaler()\n",
    "scaler.fit(X_train)\n",
    "\n",
    "X_train = scaler.transform(X_train)\n",
    "X_test = scaler.transform(X_test)"
   ]
  },
  {
   "cell_type": "code",
   "execution_count": 22,
   "metadata": {},
   "outputs": [],
   "source": [
    "#Fit the decision Tree model on the data\n",
    "from sklearn.neural_network import MLPClassifier\n",
    "PositiveCOVID19 = MLPClassifier(hidden_layer_sizes=(10), max_iter=10000)"
   ]
  },
  {
   "cell_type": "code",
   "execution_count": 23,
   "metadata": {},
   "outputs": [
    {
     "data": {
      "text/plain": [
       "MLPClassifier(hidden_layer_sizes=10, max_iter=10000)"
      ]
     },
     "execution_count": 23,
     "metadata": {},
     "output_type": "execute_result"
    }
   ],
   "source": [
    "PositiveCOVID19.fit(X_train,y_train.values.ravel())"
   ]
  },
  {
   "cell_type": "code",
   "execution_count": 24,
   "metadata": {},
   "outputs": [],
   "source": [
    "y_predicted = PositiveCOVID19.predict(X_test)"
   ]
  },
  {
   "cell_type": "code",
   "execution_count": 26,
   "metadata": {},
   "outputs": [
    {
     "name": "stdout",
     "output_type": "stream",
     "text": [
      "Accuracy obtained: 71.6303642681312\n"
     ]
    }
   ],
   "source": [
    "from sklearn import metrics\n",
    "#average_precision = average_precision_score(y_test, y_predicted)\n",
    "print(\"Accuracy obtained:\", metrics.accuracy_score(y_test, y_predicted)*100)"
   ]
  },
  {
   "cell_type": "code",
   "execution_count": 27,
   "metadata": {},
   "outputs": [
    {
     "name": "stdout",
     "output_type": "stream",
     "text": [
      "[[140406  14743]\n",
      " [ 49104  20801]]\n",
      "              precision    recall  f1-score   support\n",
      "\n",
      "          -1       0.74      0.90      0.81    155149\n",
      "           1       0.59      0.30      0.39     69905\n",
      "\n",
      "    accuracy                           0.72    225054\n",
      "   macro avg       0.66      0.60      0.60    225054\n",
      "weighted avg       0.69      0.72      0.68    225054\n",
      "\n"
     ]
    }
   ],
   "source": [
    "from sklearn.metrics import classification_report, confusion_matrix\n",
    "print(confusion_matrix(y_test,y_predicted))\n",
    "print(classification_report(y_test,y_predicted))"
   ]
  },
  {
   "cell_type": "code",
   "execution_count": null,
   "metadata": {},
   "outputs": [],
   "source": [
    "#from sklearn.metrics import roc_curve, auc\n",
    "#precision, recall, threshold = precision_recall_curv(y_test, y_predicted)\n",
    "#roc_auc2 = auc(fpr2, tpr2)"
   ]
  },
  {
   "cell_type": "code",
   "execution_count": 28,
   "metadata": {},
   "outputs": [
    {
     "name": "stdout",
     "output_type": "stream",
     "text": [
      "Average precision-recall score: 0.39\n"
     ]
    }
   ],
   "source": [
    "from sklearn.metrics import average_precision_score\n",
    "average_precision = average_precision_score(y_test, y_predicted)\n",
    "\n",
    "print('Average precision-recall score: {0:0.2f}'.format(\n",
    "      average_precision))"
   ]
  },
  {
   "cell_type": "code",
   "execution_count": 29,
   "metadata": {},
   "outputs": [
    {
     "data": {
      "text/plain": [
       "Text(0.5, 1.0, '2-class Precision-Recall curve: AP=0.39')"
      ]
     },
     "execution_count": 29,
     "metadata": {},
     "output_type": "execute_result"
    },
    {
     "data": {
      "image/png": "[encoded data removed]",
      "text/plain": [
       "<Figure size 432x288 with 1 Axes>"
      ]
     },
     "metadata": {},
     "output_type": "display_data"
    }
   ],
   "source": [
    "# image drawing\n",
    "#plt.figure()\n",
    "#plt.title('COVID-19 Predicting Model')\n",
    "#plt.plot(fpr2, tpr2, label = 'MLP Precision = %0.2f' % precision)\n",
    "#plt.legend(loc = 'lower right')\n",
    "#plt.plot([0, 1], [0, 1],'r--')\n",
    "#plt.xlim([0, 1])\n",
    "#plt.ylim([0, 1])\n",
    "#plt.ylabel('True Positive Rate')\n",
    "#plt.xlabel('False Positive Rate')\n",
    "#plt.show()\n",
    "\n",
    "\n",
    "from sklearn.metrics import precision_recall_curve\n",
    "from sklearn.metrics import plot_precision_recall_curve\n",
    "import matplotlib.pyplot as plt\n",
    "\n",
    "disp = plot_precision_recall_curve(PositiveCOVID19, X_test, y_test)\n",
    "disp.ax_.set_title('2-class Precision-Recall curve: '\n",
    "                   'AP={0:0.2f}'.format(average_precision))\n"
   ]
  },
  {
   "cell_type": "code",
   "execution_count": 30,
   "metadata": {},
   "outputs": [
    {
     "name": "stdout",
     "output_type": "stream",
     "text": [
      "1.134785429274752\n",
      "1.0652630798421354\n",
      "0.567392714637376\n",
      "-0.2159985569826557\n",
      "-0.3248600705435283\n"
     ]
    }
   ],
   "source": [
    "print(mean_squared_error(y_test,y_predicted))\n",
    "print(np.sqrt(mean_squared_error(y_test,y_predicted)))\n",
    "print(mean_absolute_error(y_test,y_predicted))\n",
    "print(explained_variance_score(y_test,y_predicted))\n",
    "print(r2_score(y_test,y_predicted))"
   ]
  },
  {
   "cell_type": "code",
   "execution_count": null,
   "metadata": {},
   "outputs": [],
   "source": []
  }
 ],
 "metadata": {
  "kernelspec": {
   "display_name": "Python 3",
   "language": "python",
   "name": "python3"
  },
  "language_info": {
   "codemirror_mode": {
    "name": "ipython",
    "version": 3
   },
   "file_extension": ".py",
   "mimetype": "text/x-python",
   "name": "python",
   "nbconvert_exporter": "python",
   "pygments_lexer": "ipython3",
   "version": "3.7.6"
  }
 },
 "nbformat": 4,
 "nbformat_minor": 4
}
