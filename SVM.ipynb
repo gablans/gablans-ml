{
 "cells": [
  {
   "cell_type": "code",
   "execution_count": null,
   "metadata": {},
   "outputs": [],
   "source": [
    "### Libraries required"
   ]
  },
  {
   "cell_type": "code",
   "execution_count": null,
   "metadata": {},
   "outputs": [],
   "source": [
    "import pandas as pd\n",
    "import numpy as np\n",
    "from sklearn.model_selection import train_test_split\n",
    "from sklearn import metrics\n",
    "\n",
    "import matplotlib.pyplot as plt\n",
    "from matplotlib import style\n",
    "style.use(\"fivethirtyeight\")\n"
   ]
  },
  {
   "cell_type": "code",
   "execution_count": null,
   "metadata": {},
   "outputs": [],
   "source": [
    "#Setting working directory\n",
    "import os\n",
    "os.chdir(\"/home/gabe/gatech/ml\")"
   ]
  },
  {
   "cell_type": "code",
   "execution_count": null,
   "metadata": {},
   "outputs": [],
   "source": [
    "#Reading Data\n",
    "data = pd.read_csv('covid_case_survey_US.csv')\n",
    "\n",
    "data.info()\n",
    "data.shape"
   ]
  },
  {
   "cell_type": "code",
   "execution_count": null,
   "metadata": {},
   "outputs": [],
   "source": [
    "#Drop dates and probable cases. Probable intances are noise at this point.\n",
    "#Drop unknowns for sex and age_group since it does not provide any insights on severity.\n",
    "\n",
    "cols = [1,4,9]\n",
    "\n",
    "data.drop(data.columns[cols],axis=1,inplace=True)\n",
    "data = data[data.current_status == \"Laboratory-confirmed case\"]\n",
    "data = data[(data.sex == \"Female\") | (data.sex == \"Male\")]\n",
    "data = data[data.age_group != \"Unknown\"]\n",
    "data.head()"
   ]
  },
  {
   "cell_type": "code",
   "execution_count": null,
   "metadata": {},
   "outputs": [],
   "source": [
    "#Add different weights to medical condition since it is important to consider it\n",
    "#eventhough you don't have too much data on it\n",
    "\n",
    "data['medcond_yn'] = np.where(data['medcond_yn']== 'Yes', 1, data['medcond_yn'])\n",
    "data['medcond_yn'] = np.where(data['medcond_yn']== 'No', -1, data['medcond_yn'])\n",
    "data['medcond_yn'] = np.where(data['medcond_yn']== 'Unknown', 0, data['medcond_yn'])\n",
    "\n",
    "data.shape\n",
    "item_counts = data[\"medcond_yn\"].value_counts()\n",
    "print(item_counts)"
   ]
  },
  {
   "cell_type": "code",
   "execution_count": null,
   "metadata": {},
   "outputs": [],
   "source": [
    "data['severity'] = np.where(data['hosp_yn']== 'Yes', 'Hospitalized', 'Care at Home')\n",
    "data['severity'] = np.where(data['icu_yn']== 'Yes', 'Intensive Care', data['severity'])\n",
    "data['severity'] = np.where(data['death_yn']== 'Yes', 'Death', data['severity'])\n",
    "\n",
    "cols = [3,4,5]\n",
    "\n",
    "data.drop(data.columns[cols],axis=1,inplace=True)\n",
    "data.head()"
   ]
  },
  {
   "cell_type": "code",
   "execution_count": null,
   "metadata": {},
   "outputs": [],
   "source": [
    "data['severity_type'] = np.select(\n",
    "    [\n",
    "        data['severity'] == \"Care at Home\", \n",
    "        data['severity'] == \"Hospitalized\",\n",
    "        data['severity'] == \"Intensive Care\",\n",
    "        data['severity'] == \"Death\",\n",
    "    ], \n",
    "    [\n",
    "        1, \n",
    "        2,\n",
    "        3,\n",
    "        4\n",
    "    ], \n",
    "    default=1\n",
    ")"
   ]
  },
  {
   "cell_type": "code",
   "execution_count": null,
   "metadata": {},
   "outputs": [],
   "source": [
    "data['sex'] = np.where(data['sex']== 'Male', 1, 2)\n",
    "item_counts = data[\"severity_type\"].value_counts()\n",
    "print(item_counts)"
   ]
  },
  {
   "cell_type": "code",
   "execution_count": null,
   "metadata": {},
   "outputs": [],
   "source": [
    "#age_encoded= pd.get_dummies(data.age_group, prefix='age_group')\n",
    "data['age_group'] = np.where(data['age_group'] == \"0 - 9 Years\", 0,data['age_group'])\n",
    "data['age_group'] = np.where(data['age_group'] == \"10 - 19 Years\", 1,data['age_group'])\n",
    "data['age_group'] = np.where(data['age_group'] == \"20 - 29 Years\", 2,data['age_group'])\n",
    "data['age_group'] = np.where(data['age_group'] == \"30 - 39 Years\", 3,data['age_group'])\n",
    "data['age_group'] = np.where(data['age_group'] == \"40 - 49 Years\", 4,data['age_group'])\n",
    "data['age_group'] = np.where(data['age_group'] == \"50 - 59 Years\", 5,data['age_group'])\n",
    "data['age_group'] = np.where(data['age_group'] == \"60 - 69 Years\", 6,data['age_group'])\n",
    "data['age_group'] = np.where(data['age_group'] == \"70 - 79 Years\", 7,data['age_group'])\n",
    "data['age_group'] = np.where(data['age_group'] == \"80+ Years\", 8,data['age_group'])\n",
    " \n",
    "#data= data.drop(['age_group'],axis=1)\n",
    "#data = pd.concat([data, age_encoded], axis=1)\n",
    "#data.shape\n",
    "\n",
    "item_counts = data['age_group'].value_counts()\n",
    "print(item_counts)\n",
    "\n",
    "data = data.sample(n=200000, random_state=1)"
   ]
  },
  {
   "cell_type": "code",
   "execution_count": null,
   "metadata": {},
   "outputs": [],
   "source": [
    "y = data[\"severity_type\"]\n",
    "y.head()\n"
   ]
  },
  {
   "cell_type": "code",
   "execution_count": null,
   "metadata": {},
   "outputs": [],
   "source": [
    "selected_columns = [0,3,4,5]\n",
    "x = data.copy()\n",
    "x.drop(x.columns[selected_columns],axis=1,inplace=True)\n",
    "x.head()"
   ]
  },
  {
   "cell_type": "code",
   "execution_count": null,
   "metadata": {},
   "outputs": [],
   "source": [
    "# Training the model\n",
    "\n",
    "X_train, X_test, y_train, y_test = train_test_split(x,y,test_size=0.2)\n"
   ]
  },
  {
   "cell_type": "code",
   "execution_count": null,
   "metadata": {},
   "outputs": [],
   "source": [
    "from sklearn.svm import SVC\n",
    "import numpy as np\n",
    "import matplotlib.pyplot as plt\n",
    "from sklearn import svm, datasets\n",
    "\n",
    "\n",
    "def make_meshgrid(x, y, h=.02):\n",
    "    x_min, x_max = x.min() - 1, x.max() + 1\n",
    "    y_min, y_max = y.min() - 1, y.max() + 1\n",
    "    xx, yy = np.meshgrid(np.arange(x_min, x_max, h), np.arange(y_min, y_max, h))\n",
    "    return xx, yy\n",
    "\n",
    "def plot_contours(ax, clf, xx, yy, **params):\n",
    "    Z = clf.predict(np.c_[xx.ravel(), yy.ravel()])\n",
    "    Z = Z.reshape(xx.shape)\n",
    "    out = ax.contourf(xx, yy, Z, **params)\n",
    "    return out\n",
    "\n",
    "# The classification SVC model\n",
    "model = svm.SVC()\n",
    "clf = model.fit(X_train, y_train)\n",
    "fig, ax = plt.subplots()\n",
    "\n",
    "# title for the plots\n",
    "title = ('Decision surface of linear SVC ')\n",
    "\n",
    "# Set-up grid for plotting.\n",
    "X0, X1 = X_train.iloc[:, 0], X_train.iloc[:, 1]\n",
    "xx, yy = make_meshgrid(X0, X1)\n",
    "plot_contours(ax, clf, xx, yy, cmap=plt.cm.coolwarm, alpha=0.8)\n",
    "ax.scatter(X0, X1, c=y_train, cmap=plt.cm.coolwarm, s=20, edgecolors=\"k\")\n",
    "ax.set_ylabel('Age Group (0 to 100 years old)')\n",
    "ax.set_xlabel('Gender')\n",
    "ax.set_xticks(())\n",
    "ax.set_yticks(())\n",
    "ax.set_title(title)\n",
    "plt.show()"
   ]
  },
  {
   "cell_type": "code",
   "execution_count": null,
   "metadata": {},
   "outputs": [],
   "source": [
    "y_predicted = clf.predict(X_test)\n",
    "from sklearn.metrics import average_precision_score\n",
    "#average_precision = average_precision_score(y_test, y_predicted)\n",
    "print(\"Accuracy obtained:\", metrics.accuracy_score(y_test, y_predicted))"
   ]
  },
  {
   "cell_type": "code",
   "execution_count": null,
   "metadata": {},
   "outputs": [],
   "source": [
    "from sklearn.metrics import classification_report, confusion_matrix\n",
    "print(classification_report(y_test, y_predicted))\n",
    "print(confusion_matrix(y_test, y_predicted))"
   ]
  },
  {
   "cell_type": "code",
   "execution_count": null,
   "metadata": {},
   "outputs": [],
   "source": [
    "from sklearn.svm import SVC\n",
    "model = SVC()\n",
    "model.fit(X_train, y_train)\n",
    "model.score(X_test, y_test)"
   ]
  },
  {
   "cell_type": "code",
   "execution_count": null,
   "metadata": {},
   "outputs": [],
   "source": [
    "model_C = SVC(C=1)\n",
    "model_C.fit(X_train, y_train)\n",
    "model_C.score(X_test, y_test)"
   ]
  },
  {
   "cell_type": "code",
   "execution_count": null,
   "metadata": {},
   "outputs": [],
   "source": [
    "model_C = SVC(C=10)\n",
    "model_C.fit(X_train, y_train)\n",
    "model_C.score(X_test, y_test)"
   ]
  },
  {
   "cell_type": "code",
   "execution_count": null,
   "metadata": {},
   "outputs": [],
   "source": [
    "model_g = SVC(gamma=10)\n",
    "model_g.fit(X_train, y_train)\n",
    "model_g.score(X_test, y_test)"
   ]
  },
  {
   "cell_type": "code",
   "execution_count": null,
   "metadata": {},
   "outputs": [],
   "source": [
    "model_linear_kernal = SVC(kernel='sigmoid')\n",
    "model_linear_kernal.fit(X_train, y_train)\n",
    "model_linear_kernal.score(X_test, y_test)"
   ]
  },
  {
   "cell_type": "code",
   "execution_count": null,
   "metadata": {},
   "outputs": [],
   "source": [
    "model_linear_kernal = SVC(kernel='poly')\n",
    "model_linear_kernal.fit(X_train, y_train)\n",
    "model_linear_kernal.score(X_test, y_test)"
   ]
  },
  {
   "cell_type": "code",
   "execution_count": null,
   "metadata": {},
   "outputs": [],
   "source": []
  }
 ],
 "metadata": {
  "kernelspec": {
   "display_name": "Python 3",
   "language": "python",
   "name": "python3"
  },
  "language_info": {
   "codemirror_mode": {
    "name": "ipython",
    "version": 3
   },
   "file_extension": ".py",
   "mimetype": "text/x-python",
   "name": "python",
   "nbconvert_exporter": "python",
   "pygments_lexer": "ipython3",
   "version": "3.7.6"
  }
 },
 "nbformat": 4,
 "nbformat_minor": 4
}
